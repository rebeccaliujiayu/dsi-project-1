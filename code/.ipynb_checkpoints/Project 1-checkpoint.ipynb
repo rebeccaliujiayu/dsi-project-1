{
 "cells": [
  {
   "cell_type": "markdown",
   "metadata": {},
   "source": [
    "<img src=\"http://imgur.com/1ZcRyrc.png\" style=\"float: left; margin: 20px; height: 55px\">\n",
    "\n",
    "# Project 1: Standardized Test Analysis"
   ]
  },
  {
   "cell_type": "markdown",
   "metadata": {},
   "source": [
    "--- \n",
    "# Part 1\n",
    "\n",
    "Part 1 requires knowledge of basic Python.\n",
    "\n",
    "---"
   ]
  },
  {
   "cell_type": "markdown",
   "metadata": {},
   "source": [
    "## Problem Statement"
   ]
  },
  {
   "cell_type": "markdown",
   "metadata": {},
   "source": [
    "This project aims to identify the districts in California that have the worst overall student performance on the SAT and ACT tests, and identify possible reasons for the performance gap between these districts and the best performing districts. It also aims to identify potential reasons for poor participation rate in the SAT and ACT. This will allow the state of California to recommend programs to increase test performance and test participation rates, and in doing so, hopefully enable more students to go to college."
   ]
  },
  {
   "cell_type": "markdown",
   "metadata": {},
   "source": [
    "### Contents:\n",
    "- [Background](#Background)\n",
    "- [Data Import & Cleaning](#Data-Import-and-Cleaning)\n",
    "- [Exploratory Data Analysis](#Exploratory-Data-Analysis)\n",
    "- [Data Visualization](#Visualize-the-Data)\n",
    "- [Conclusions and Recommendations](#Conclusions-and-Recommendations)"
   ]
  },
  {
   "cell_type": "markdown",
   "metadata": {},
   "source": [
    "## Background"
   ]
  },
  {
   "cell_type": "markdown",
   "metadata": {},
   "source": [
    "The SAT and ACT are standardized tests that many colleges and universities in the United States require for their admissions process. This score is used along with other materials such as grade point average (GPA) and essay responses to determine whether or not a potential student will be accepted to the university.\n",
    "\n",
    "The SAT has two sections of the test: Evidence-Based Reading and Writing and Math ([*source*](https://www.princetonreview.com/college/sat-sections)). The ACT has 4 sections: English, Mathematics, Reading, and Science, with an additional optional writing section ([*source*](https://www.act.org/content/act/en/products-and-services/the-act/scores/understanding-your-scores.html)). They have different score ranges, which you can read more about on their websites or additional outside sources (a quick Google search will help you understand the scores for each test):\n",
    "* [SAT](https://collegereadiness.collegeboard.org/sat)\n",
    "* [ACT](https://www.act.org/content/act/en.html)\n",
    "\n",
    "Standardized tests have long been a controversial topic for students, administrators, and legislators. Since the 1940's, an increasing number of colleges have been using scores from students' performances on tests like the SAT and the ACT as a measure for college readiness and aptitude ([*source*](https://www.minotdailynews.com/news/local-news/2017/04/a-brief-history-of-the-sat-and-act/)). Supporters of these tests argue that these scores can be used as an objective measure to determine college admittance. Opponents of these tests claim that these tests are not accurate measures of students potential or ability and serve as an inequitable barrier to entry. Lately, more and more schools are opting to drop the SAT/ACT requirement for their Fall 2021 applications ([*read more about this here*](https://www.cnn.com/2020/04/14/us/coronavirus-colleges-sat-act-test-trnd/index.html))."
   ]
  },
  {
   "cell_type": "markdown",
   "metadata": {},
   "source": [
    "### Datasets\n",
    "\n",
    "* [`act_2019_ca.csv`](../data/act_2019_ca.csv): 2019 ACT Scores in California by School\n",
    "* [`sat_2019_ca.csv`](../data/sat_2019_ca.csv): 2019 SAT Scores in California by School\n",
    "* [`district_income.csv`](../data/district_income.csv): 2019 Most and Least Equitable School Districts in California [[source]](https://wallethub.com/edu/e/most-least-equitable-school-districts-in-california/77056)"
   ]
  },
  {
   "cell_type": "markdown",
   "metadata": {},
   "source": [
    "### Outside Research"
   ]
  },
  {
   "cell_type": "markdown",
   "metadata": {},
   "source": [
    "Prior research seems to show that household income is a major predictor of SAT and ACT scores, with richer students outperforming poorer students.<sup>[1]</sup> Two decades ago, criticisms that tests contain cultural biases (such as the use of \"regatta\" in a vocabulary tests, which critics argued was a word more likely to be known by privileged students) eventually led to the University of California system successfully lobbying for changes that would remove cultural biases from the test.<sup>[2]</sup> However, performance gaps between higher and lower income groups continue to persist.\n",
    "\n",
    "Reasons often cited for the divide between rich and poor students include ability to pay for private test prep courses, and the fact that students living in wealthier districts typically attend better-funded schools.<sup>[3]</sup> However, research seems to indicate that private test prep has limited effect on test grades.<sup>[4]</sup> This study thus uses an external dataset to explore how school funding and income may influence SAT and ACT scores, so as to inform resource-allocation by the state of California.\n",
    "\n",
    "<br>\n",
    "\n",
    "<sup>[1]</sup> Mark Kantrowitz (2021). *[How Admissions Tests Discriminate Against Low-Income And Minority Student Admissions At Selective Colleges](https://www.forbes.com/sites/markkantrowitz/2021/05/21/how-admissions-tests-discriminate-against-low-income-and-minority-student-admissions-at-selective-colleges/?sh=263a4f0e3cc1)*. Forbes. Retrieved 5 October 2021.\n",
    "\n",
    "<sup>[2][4]</sup> Josh Zunbrun (2014). *[SAT Scores and Income Inequality: How Wealthier Kids Rank Higher](https://www.wsj.com/articles/BL-REB-28270)*. Wall Street Journal. Retrieved 5 October 2021.\n",
    "\n",
    "\n",
    "<sup>[3]</sup> Abigail Johnson Hess (2019) *[Rich students get better SAT scores — here’s why](https://www.cnbc.com/2019/10/03/rich-students-get-better-sat-scores-heres-why.html)*. CNBC. Retrieved 5 October 2021."
   ]
  },
  {
   "cell_type": "markdown",
   "metadata": {},
   "source": [
    "### Coding Challenges\n",
    "\n",
    "1. Manually calculate mean:\n",
    "\n",
    "    Write a function that takes in values and returns the mean of the values. Create a list of numbers that you test on your function to check to make sure your function works!\n",
    "    \n",
    "    *Note*: Do not use any mean methods built-in to any Python libraries to do this! This should be done without importing any additional libraries."
   ]
  },
  {
   "cell_type": "code",
   "execution_count": 696,
   "metadata": {},
   "outputs": [
    {
     "name": "stdout",
     "output_type": "stream",
     "text": [
      "The mean is 3.0\n"
     ]
    }
   ],
   "source": [
    "test_data = [1, 2, 3, 4, 5]\n",
    "\n",
    "def calculate_mean(df):\n",
    "    numbers = [num for num in df if str(num)!=\"nan\"]\n",
    "    return sum(numbers) / len(numbers)\n",
    "\n",
    "print(\"The mean is\", calculate_mean(test_data))"
   ]
  },
  {
   "cell_type": "markdown",
   "metadata": {},
   "source": [
    "2. Manually calculate standard deviation:\n",
    "\n",
    "    The formula for standard deviation is below:\n",
    "\n",
    "    $$\\sigma = \\sqrt{\\frac{1}{n}\\sum_{i=1}^n(x_i - \\mu)^2}$$\n",
    "\n",
    "    Where $x_i$ represents each value in the dataset, $\\mu$ represents the mean of all values in the dataset and $n$ represents the number of values in the dataset.\n",
    "\n",
    "    Write a function that takes in values and returns the standard deviation of the values using the formula above. Hint: use the function you wrote above to calculate the mean! Use the list of numbers you created above to test on your function.\n",
    "    \n",
    "    *Note*: Do not use any standard deviation methods built-in to any Python libraries to do this! This should be done without importing any additional libraries."
   ]
  },
  {
   "cell_type": "code",
   "execution_count": 697,
   "metadata": {},
   "outputs": [
    {
     "name": "stdout",
     "output_type": "stream",
     "text": [
      "The standard deviation is 1.4142135623730951\n"
     ]
    }
   ],
   "source": [
    "def calculate_sd(df):\n",
    "    numbers = [num for num in df if str(num)!=\"nan\"]\n",
    "    try:\n",
    "        data_var = sum([(number - calculate_mean(numbers))**2 for number in numbers])/len(numbers)\n",
    "        data_sd = data_var ** (1/2)\n",
    "        return data_sd\n",
    "    except:\n",
    "        return \"NA\"\n",
    "\n",
    "print(\"The standard deviation is\", calculate_sd(test_data))"
   ]
  },
  {
   "cell_type": "markdown",
   "metadata": {},
   "source": [
    "3. Data cleaning function:\n",
    "    \n",
    "    Write a function that takes in a string that is a number and a percent symbol (ex. '50%', '30.5%', etc.) and converts this to a float that is the decimal approximation of the percent. For example, inputting '50%' in your function should return 0.5, '30.5%' should return 0.305, etc. Make sure to test your function to make sure it works!\n",
    "\n",
    "You will use these functions later on in the project!"
   ]
  },
  {
   "cell_type": "code",
   "execution_count": 698,
   "metadata": {},
   "outputs": [
    {
     "data": {
      "text/plain": [
       "0.05"
      ]
     },
     "execution_count": 698,
     "metadata": {},
     "output_type": "execute_result"
    }
   ],
   "source": [
    "test_cleaning = \"50%\"\n",
    "\n",
    "def clean_percent_strings(strings):\n",
    "    for string in strings:\n",
    "        try:\n",
    "            output = float(string.replace(\"%\",\"\"))/100\n",
    "        except:\n",
    "            output = np.nan\n",
    "        return output\n",
    "\n",
    "clean_percent_strings(test_cleaning)"
   ]
  },
  {
   "cell_type": "markdown",
   "metadata": {},
   "source": [
    "--- \n",
    "# Part 2\n",
    "\n",
    "Part 2 requires knowledge of Pandas, EDA, data cleaning, and data visualization.\n",
    "\n",
    "---"
   ]
  },
  {
   "cell_type": "markdown",
   "metadata": {},
   "source": [
    "*All libraries used should be added here*"
   ]
  },
  {
   "cell_type": "code",
   "execution_count": 699,
   "metadata": {},
   "outputs": [],
   "source": [
    "import numpy as np\n",
    "import pandas as pd\n",
    "import matplotlib.pyplot as plt\n",
    "import seaborn as sns"
   ]
  },
  {
   "cell_type": "markdown",
   "metadata": {},
   "source": [
    "## Data Import and Cleaning"
   ]
  },
  {
   "cell_type": "markdown",
   "metadata": {},
   "source": [
    "### Data Import & Cleaning\n",
    "\n",
    "Import the datasets that you selected for this project and go through the following steps at a minimum. You are welcome to do further cleaning as you feel necessary:\n",
    "1. Display the data: print the first 5 rows of each dataframe to your Jupyter notebook.\n",
    "2. Check for missing values.\n",
    "3. Check for any obvious issues with the observations (keep in mind the minimum & maximum possible values for each test/subtest).\n",
    "4. Fix any errors you identified in steps 2-3.\n",
    "5. Display the data types of each feature.\n",
    "6. Fix any incorrect data types found in step 5.\n",
    "    - Fix any individual values preventing other columns from being the appropriate type.\n",
    "    - If your dataset has a column of percents (ex. '50%', '30.5%', etc.), use the function you wrote in Part 1 (coding challenges, number 3) to convert this to floats! *Hint*: use `.map()` or `.apply()`.\n",
    "7. Rename Columns.\n",
    "    - Column names should be all lowercase.\n",
    "    - Column names should not contain spaces (underscores will suffice--this allows for using the `df.column_name` method to access columns in addition to `df['column_name']`).\n",
    "    - Column names should be unique and informative.\n",
    "8. Drop unnecessary rows (if needed).\n",
    "9. Merge dataframes that can be merged.\n",
    "10. Perform any additional cleaning that you feel is necessary.\n",
    "11. Save your cleaned and merged dataframes as csv files."
   ]
  },
  {
   "cell_type": "markdown",
   "metadata": {},
   "source": [
    "#### Cleaning California ACT Scores"
   ]
  },
  {
   "cell_type": "code",
   "execution_count": 700,
   "metadata": {
    "scrolled": true
   },
   "outputs": [
    {
     "data": {
      "text/html": [
       "<div>\n",
       "<style scoped>\n",
       "    .dataframe tbody tr th:only-of-type {\n",
       "        vertical-align: middle;\n",
       "    }\n",
       "\n",
       "    .dataframe tbody tr th {\n",
       "        vertical-align: top;\n",
       "    }\n",
       "\n",
       "    .dataframe thead th {\n",
       "        text-align: right;\n",
       "    }\n",
       "</style>\n",
       "<table border=\"1\" class=\"dataframe\">\n",
       "  <thead>\n",
       "    <tr style=\"text-align: right;\">\n",
       "      <th></th>\n",
       "      <th>cds</th>\n",
       "      <th>county_code</th>\n",
       "      <th>district_code</th>\n",
       "      <th>school_code</th>\n",
       "      <th>row_type</th>\n",
       "      <th>school_name</th>\n",
       "      <th>district_name</th>\n",
       "      <th>county_name</th>\n",
       "      <th>enrolled_students_act</th>\n",
       "      <th>num_test_takers_act</th>\n",
       "      <th>ave_read</th>\n",
       "      <th>ave_eng</th>\n",
       "      <th>ave_math</th>\n",
       "      <th>ave_sci</th>\n",
       "      <th>num_above_21</th>\n",
       "      <th>pct_above_21</th>\n",
       "      <th>year</th>\n",
       "      <th>unnamed</th>\n",
       "    </tr>\n",
       "  </thead>\n",
       "  <tbody>\n",
       "    <tr>\n",
       "      <th>0</th>\n",
       "      <td>3.366993e+13</td>\n",
       "      <td>33.0</td>\n",
       "      <td>3366993.0</td>\n",
       "      <td>129882.0</td>\n",
       "      <td>S</td>\n",
       "      <td>21st Century Learning Institute</td>\n",
       "      <td>Beaumont Unified</td>\n",
       "      <td>Riverside</td>\n",
       "      <td>18.0</td>\n",
       "      <td>0.0</td>\n",
       "      <td>NaN</td>\n",
       "      <td>NaN</td>\n",
       "      <td>NaN</td>\n",
       "      <td>NaN</td>\n",
       "      <td>NaN</td>\n",
       "      <td>NaN</td>\n",
       "      <td>2018-19</td>\n",
       "      <td>NaN</td>\n",
       "    </tr>\n",
       "    <tr>\n",
       "      <th>1</th>\n",
       "      <td>1.964212e+13</td>\n",
       "      <td>19.0</td>\n",
       "      <td>1964212.0</td>\n",
       "      <td>1995596.0</td>\n",
       "      <td>S</td>\n",
       "      <td>ABC Secondary (Alternative)</td>\n",
       "      <td>ABC Unified</td>\n",
       "      <td>Los Angeles</td>\n",
       "      <td>58.0</td>\n",
       "      <td>0.0</td>\n",
       "      <td>NaN</td>\n",
       "      <td>NaN</td>\n",
       "      <td>NaN</td>\n",
       "      <td>NaN</td>\n",
       "      <td>NaN</td>\n",
       "      <td>NaN</td>\n",
       "      <td>2018-19</td>\n",
       "      <td>NaN</td>\n",
       "    </tr>\n",
       "    <tr>\n",
       "      <th>2</th>\n",
       "      <td>1.563776e+13</td>\n",
       "      <td>15.0</td>\n",
       "      <td>1563776.0</td>\n",
       "      <td>1530377.0</td>\n",
       "      <td>S</td>\n",
       "      <td>Abraham Lincoln Alternative</td>\n",
       "      <td>Southern Kern Unified</td>\n",
       "      <td>Kern</td>\n",
       "      <td>18.0</td>\n",
       "      <td>0.0</td>\n",
       "      <td>NaN</td>\n",
       "      <td>NaN</td>\n",
       "      <td>NaN</td>\n",
       "      <td>NaN</td>\n",
       "      <td>NaN</td>\n",
       "      <td>NaN</td>\n",
       "      <td>2018-19</td>\n",
       "      <td>NaN</td>\n",
       "    </tr>\n",
       "    <tr>\n",
       "      <th>3</th>\n",
       "      <td>4.369666e+13</td>\n",
       "      <td>43.0</td>\n",
       "      <td>4369666.0</td>\n",
       "      <td>4333795.0</td>\n",
       "      <td>S</td>\n",
       "      <td>Abraham Lincoln High</td>\n",
       "      <td>San Jose Unified</td>\n",
       "      <td>Santa Clara</td>\n",
       "      <td>463.0</td>\n",
       "      <td>53.0</td>\n",
       "      <td>23</td>\n",
       "      <td>22</td>\n",
       "      <td>22</td>\n",
       "      <td>23</td>\n",
       "      <td>34</td>\n",
       "      <td>64.15</td>\n",
       "      <td>2018-19</td>\n",
       "      <td>NaN</td>\n",
       "    </tr>\n",
       "    <tr>\n",
       "      <th>4</th>\n",
       "      <td>1.964733e+13</td>\n",
       "      <td>19.0</td>\n",
       "      <td>1964733.0</td>\n",
       "      <td>1935121.0</td>\n",
       "      <td>S</td>\n",
       "      <td>Abraham Lincoln Senior High</td>\n",
       "      <td>Los Angeles Unified</td>\n",
       "      <td>Los Angeles</td>\n",
       "      <td>226.0</td>\n",
       "      <td>19.0</td>\n",
       "      <td>21</td>\n",
       "      <td>20</td>\n",
       "      <td>23</td>\n",
       "      <td>22</td>\n",
       "      <td>11</td>\n",
       "      <td>57.89</td>\n",
       "      <td>2018-19</td>\n",
       "      <td>NaN</td>\n",
       "    </tr>\n",
       "  </tbody>\n",
       "</table>\n",
       "</div>"
      ],
      "text/plain": [
       "            cds  county_code  district_code  school_code row_type  \\\n",
       "0  3.366993e+13         33.0      3366993.0     129882.0        S   \n",
       "1  1.964212e+13         19.0      1964212.0    1995596.0        S   \n",
       "2  1.563776e+13         15.0      1563776.0    1530377.0        S   \n",
       "3  4.369666e+13         43.0      4369666.0    4333795.0        S   \n",
       "4  1.964733e+13         19.0      1964733.0    1935121.0        S   \n",
       "\n",
       "                       school_name          district_name  county_name  \\\n",
       "0  21st Century Learning Institute       Beaumont Unified    Riverside   \n",
       "1      ABC Secondary (Alternative)            ABC Unified  Los Angeles   \n",
       "2      Abraham Lincoln Alternative  Southern Kern Unified         Kern   \n",
       "3             Abraham Lincoln High       San Jose Unified  Santa Clara   \n",
       "4      Abraham Lincoln Senior High    Los Angeles Unified  Los Angeles   \n",
       "\n",
       "   enrolled_students_act  num_test_takers_act ave_read ave_eng ave_math  \\\n",
       "0                   18.0                  0.0      NaN     NaN      NaN   \n",
       "1                   58.0                  0.0      NaN     NaN      NaN   \n",
       "2                   18.0                  0.0      NaN     NaN      NaN   \n",
       "3                  463.0                 53.0       23      22       22   \n",
       "4                  226.0                 19.0       21      20       23   \n",
       "\n",
       "  ave_sci num_above_21 pct_above_21     year  unnamed  \n",
       "0     NaN          NaN          NaN  2018-19      NaN  \n",
       "1     NaN          NaN          NaN  2018-19      NaN  \n",
       "2     NaN          NaN          NaN  2018-19      NaN  \n",
       "3      23           34        64.15  2018-19      NaN  \n",
       "4      22           11        57.89  2018-19      NaN  "
      ]
     },
     "execution_count": 700,
     "metadata": {},
     "output_type": "execute_result"
    }
   ],
   "source": [
    "#Import California ACT scores with renamed columns\n",
    "act_col_names = [\"cds\", \n",
    "                 \"county_code\",\n",
    "                 \"district_code\",\n",
    "                 \"school_code\",\n",
    "                 \"row_type\",\n",
    "                 \"school_name\",\n",
    "                 \"district_name\",\n",
    "                 \"county_name\",\n",
    "                 \"enrolled_students_act\",\n",
    "                 \"num_test_takers_act\",\n",
    "                 \"ave_read\",\n",
    "                 \"ave_eng\",\n",
    "                 \"ave_math\",\n",
    "                 \"ave_sci\",\n",
    "                 \"num_above_21\",\n",
    "                 \"pct_above_21\",\n",
    "                 \"year\",\n",
    "                 \"unnamed\"]\n",
    "\n",
    "act = pd.read_csv(\"../data/act_2019_ca.csv\", header=0, names = act_col_names)\n",
    "\n",
    "#Print first five rows of ACT scores dataframe\n",
    "act.head()"
   ]
  },
  {
   "cell_type": "markdown",
   "metadata": {},
   "source": [
    "##### Checking data types"
   ]
  },
  {
   "cell_type": "code",
   "execution_count": 701,
   "metadata": {},
   "outputs": [
    {
     "data": {
      "text/plain": [
       "cds                      float64\n",
       "county_code              float64\n",
       "district_code            float64\n",
       "school_code              float64\n",
       "row_type                  object\n",
       "school_name               object\n",
       "district_name             object\n",
       "county_name               object\n",
       "enrolled_students_act    float64\n",
       "num_test_takers_act      float64\n",
       "ave_read                  object\n",
       "ave_eng                   object\n",
       "ave_math                  object\n",
       "ave_sci                   object\n",
       "num_above_21              object\n",
       "pct_above_21              object\n",
       "year                      object\n",
       "unnamed                  float64\n",
       "dtype: object"
      ]
     },
     "execution_count": 701,
     "metadata": {},
     "output_type": "execute_result"
    }
   ],
   "source": [
    "act.dtypes"
   ]
  },
  {
   "cell_type": "markdown",
   "metadata": {},
   "source": [
    "As seen above, columns relating to the scores are objects when they should be floats. This is because score data has been keyed as * for schools with less than 15 test takers, which accounts for 532 rows."
   ]
  },
  {
   "cell_type": "code",
   "execution_count": 702,
   "metadata": {},
   "outputs": [],
   "source": [
    "act_convert_cols = [\"ave_read\", \n",
    "                    \"ave_eng\", \n",
    "                    \"ave_math\", \n",
    "                    \"ave_sci\", \n",
    "                    \"num_above_21\", \n",
    "                    \"pct_above_21\"]\n",
    "\n",
    "#Convert \"*\" values into null values\n",
    "act[act_convert_cols] = act[act_convert_cols].replace(\"*\", np.nan)\n",
    "\n",
    "#Convert average score values and number / percentage of students with 21 and above to floats\n",
    "act[act_convert_cols] = act[act_convert_cols].astype(float, errors = \"ignore\")"
   ]
  },
  {
   "cell_type": "markdown",
   "metadata": {},
   "source": [
    "##### Check missing values"
   ]
  },
  {
   "cell_type": "code",
   "execution_count": 703,
   "metadata": {
    "scrolled": true
   },
   "outputs": [
    {
     "data": {
      "text/plain": [
       "cds                         1\n",
       "county_code                 1\n",
       "district_code               1\n",
       "school_code               523\n",
       "row_type                    1\n",
       "school_name               581\n",
       "district_name              59\n",
       "county_name                 1\n",
       "enrolled_students_act       1\n",
       "num_test_takers_act         1\n",
       "ave_read                  889\n",
       "ave_eng                   889\n",
       "ave_math                  889\n",
       "ave_sci                   889\n",
       "num_above_21              889\n",
       "pct_above_21              889\n",
       "year                        1\n",
       "unnamed                  2310\n",
       "dtype: int64"
      ]
     },
     "execution_count": 703,
     "metadata": {},
     "output_type": "execute_result"
    }
   ],
   "source": [
    "act.isnull().sum()"
   ]
  },
  {
   "cell_type": "markdown",
   "metadata": {},
   "source": [
    "To investigate the missing values, I used filtered for rows with missing values. As seen in the code blocks below:\n",
    "\n",
    "- There is 1 missing value for all columns because the last row is empty.\n",
    "- The last columns (unnamed) is empty.\n",
    "- There are 889 missing values for all the score columns because there were 15 test takers in 888 schools -- the 889th missing value is due to the 1 empty row.\n",
    "- There are 58 rows that aggregate the scores for the 58 counties and 522 rows that aggregate the scores for 522 school districts -- this accounts for the missing 523 and 581 school codes and names, and the missing 59 district names"
   ]
  },
  {
   "cell_type": "code",
   "execution_count": 704,
   "metadata": {},
   "outputs": [
    {
     "data": {
      "text/html": [
       "<div>\n",
       "<style scoped>\n",
       "    .dataframe tbody tr th:only-of-type {\n",
       "        vertical-align: middle;\n",
       "    }\n",
       "\n",
       "    .dataframe tbody tr th {\n",
       "        vertical-align: top;\n",
       "    }\n",
       "\n",
       "    .dataframe thead th {\n",
       "        text-align: right;\n",
       "    }\n",
       "</style>\n",
       "<table border=\"1\" class=\"dataframe\">\n",
       "  <thead>\n",
       "    <tr style=\"text-align: right;\">\n",
       "      <th></th>\n",
       "      <th>cds</th>\n",
       "      <th>county_code</th>\n",
       "      <th>district_code</th>\n",
       "      <th>school_code</th>\n",
       "      <th>row_type</th>\n",
       "      <th>school_name</th>\n",
       "      <th>district_name</th>\n",
       "      <th>county_name</th>\n",
       "      <th>enrolled_students_act</th>\n",
       "      <th>num_test_takers_act</th>\n",
       "      <th>ave_read</th>\n",
       "      <th>ave_eng</th>\n",
       "      <th>ave_math</th>\n",
       "      <th>ave_sci</th>\n",
       "      <th>num_above_21</th>\n",
       "      <th>pct_above_21</th>\n",
       "      <th>year</th>\n",
       "      <th>unnamed</th>\n",
       "    </tr>\n",
       "  </thead>\n",
       "  <tbody>\n",
       "    <tr>\n",
       "      <th>2309</th>\n",
       "      <td>NaN</td>\n",
       "      <td>NaN</td>\n",
       "      <td>NaN</td>\n",
       "      <td>NaN</td>\n",
       "      <td>NaN</td>\n",
       "      <td>NaN</td>\n",
       "      <td>NaN</td>\n",
       "      <td>NaN</td>\n",
       "      <td>NaN</td>\n",
       "      <td>NaN</td>\n",
       "      <td>NaN</td>\n",
       "      <td>NaN</td>\n",
       "      <td>NaN</td>\n",
       "      <td>NaN</td>\n",
       "      <td>NaN</td>\n",
       "      <td>NaN</td>\n",
       "      <td>NaN</td>\n",
       "      <td>NaN</td>\n",
       "    </tr>\n",
       "  </tbody>\n",
       "</table>\n",
       "</div>"
      ],
      "text/plain": [
       "      cds  county_code  district_code  school_code row_type school_name  \\\n",
       "2309  NaN          NaN            NaN          NaN      NaN         NaN   \n",
       "\n",
       "     district_name county_name  enrolled_students_act  num_test_takers_act  \\\n",
       "2309           NaN         NaN                    NaN                  NaN   \n",
       "\n",
       "      ave_read  ave_eng  ave_math  ave_sci  num_above_21  pct_above_21 year  \\\n",
       "2309       NaN      NaN       NaN      NaN           NaN           NaN  NaN   \n",
       "\n",
       "      unnamed  \n",
       "2309      NaN  "
      ]
     },
     "execution_count": 704,
     "metadata": {},
     "output_type": "execute_result"
    }
   ],
   "source": [
    "#2309 is an empty row\n",
    "act.loc[act[\"cds\"].isnull(),:]"
   ]
  },
  {
   "cell_type": "code",
   "execution_count": 705,
   "metadata": {},
   "outputs": [
    {
     "data": {
      "text/html": [
       "<div>\n",
       "<style scoped>\n",
       "    .dataframe tbody tr th:only-of-type {\n",
       "        vertical-align: middle;\n",
       "    }\n",
       "\n",
       "    .dataframe tbody tr th {\n",
       "        vertical-align: top;\n",
       "    }\n",
       "\n",
       "    .dataframe thead th {\n",
       "        text-align: right;\n",
       "    }\n",
       "</style>\n",
       "<table border=\"1\" class=\"dataframe\">\n",
       "  <thead>\n",
       "    <tr style=\"text-align: right;\">\n",
       "      <th></th>\n",
       "      <th>cds</th>\n",
       "      <th>county_code</th>\n",
       "      <th>district_code</th>\n",
       "      <th>school_code</th>\n",
       "      <th>row_type</th>\n",
       "      <th>school_name</th>\n",
       "      <th>district_name</th>\n",
       "      <th>county_name</th>\n",
       "      <th>enrolled_students_act</th>\n",
       "      <th>num_test_takers_act</th>\n",
       "      <th>ave_read</th>\n",
       "      <th>ave_eng</th>\n",
       "      <th>ave_math</th>\n",
       "      <th>ave_sci</th>\n",
       "      <th>num_above_21</th>\n",
       "      <th>pct_above_21</th>\n",
       "      <th>year</th>\n",
       "      <th>unnamed</th>\n",
       "    </tr>\n",
       "  </thead>\n",
       "  <tbody>\n",
       "    <tr>\n",
       "      <th>0</th>\n",
       "      <td>3.366993e+13</td>\n",
       "      <td>33.0</td>\n",
       "      <td>3366993.0</td>\n",
       "      <td>129882.0</td>\n",
       "      <td>S</td>\n",
       "      <td>21st Century Learning Institute</td>\n",
       "      <td>Beaumont Unified</td>\n",
       "      <td>Riverside</td>\n",
       "      <td>18.0</td>\n",
       "      <td>0.0</td>\n",
       "      <td>NaN</td>\n",
       "      <td>NaN</td>\n",
       "      <td>NaN</td>\n",
       "      <td>NaN</td>\n",
       "      <td>NaN</td>\n",
       "      <td>NaN</td>\n",
       "      <td>2018-19</td>\n",
       "      <td>NaN</td>\n",
       "    </tr>\n",
       "    <tr>\n",
       "      <th>1187</th>\n",
       "      <td>1.062539e+13</td>\n",
       "      <td>10.0</td>\n",
       "      <td>1062539.0</td>\n",
       "      <td>NaN</td>\n",
       "      <td>D</td>\n",
       "      <td>NaN</td>\n",
       "      <td>West Park Elementary</td>\n",
       "      <td>Fresno</td>\n",
       "      <td>69.0</td>\n",
       "      <td>0.0</td>\n",
       "      <td>NaN</td>\n",
       "      <td>NaN</td>\n",
       "      <td>NaN</td>\n",
       "      <td>NaN</td>\n",
       "      <td>NaN</td>\n",
       "      <td>NaN</td>\n",
       "      <td>2018-19</td>\n",
       "      <td>NaN</td>\n",
       "    </tr>\n",
       "    <tr>\n",
       "      <th>1184</th>\n",
       "      <td>1.062380e+13</td>\n",
       "      <td>10.0</td>\n",
       "      <td>1062380.0</td>\n",
       "      <td>NaN</td>\n",
       "      <td>D</td>\n",
       "      <td>NaN</td>\n",
       "      <td>Raisin City Elementary</td>\n",
       "      <td>Fresno</td>\n",
       "      <td>39.0</td>\n",
       "      <td>0.0</td>\n",
       "      <td>NaN</td>\n",
       "      <td>NaN</td>\n",
       "      <td>NaN</td>\n",
       "      <td>NaN</td>\n",
       "      <td>NaN</td>\n",
       "      <td>NaN</td>\n",
       "      <td>2018-19</td>\n",
       "      <td>NaN</td>\n",
       "    </tr>\n",
       "    <tr>\n",
       "      <th>1170</th>\n",
       "      <td>9.618380e+12</td>\n",
       "      <td>9.0</td>\n",
       "      <td>961838.0</td>\n",
       "      <td>NaN</td>\n",
       "      <td>D</td>\n",
       "      <td>NaN</td>\n",
       "      <td>Buckeye Union Elementary</td>\n",
       "      <td>El Dorado</td>\n",
       "      <td>25.0</td>\n",
       "      <td>0.0</td>\n",
       "      <td>NaN</td>\n",
       "      <td>NaN</td>\n",
       "      <td>NaN</td>\n",
       "      <td>NaN</td>\n",
       "      <td>NaN</td>\n",
       "      <td>NaN</td>\n",
       "      <td>2018-19</td>\n",
       "      <td>NaN</td>\n",
       "    </tr>\n",
       "    <tr>\n",
       "      <th>1167</th>\n",
       "      <td>8.100820e+12</td>\n",
       "      <td>8.0</td>\n",
       "      <td>810082.0</td>\n",
       "      <td>NaN</td>\n",
       "      <td>D</td>\n",
       "      <td>NaN</td>\n",
       "      <td>Del Norte County Office of Education</td>\n",
       "      <td>Del Norte</td>\n",
       "      <td>117.0</td>\n",
       "      <td>0.0</td>\n",
       "      <td>NaN</td>\n",
       "      <td>NaN</td>\n",
       "      <td>NaN</td>\n",
       "      <td>NaN</td>\n",
       "      <td>NaN</td>\n",
       "      <td>NaN</td>\n",
       "      <td>2018-19</td>\n",
       "      <td>NaN</td>\n",
       "    </tr>\n",
       "    <tr>\n",
       "      <th>...</th>\n",
       "      <td>...</td>\n",
       "      <td>...</td>\n",
       "      <td>...</td>\n",
       "      <td>...</td>\n",
       "      <td>...</td>\n",
       "      <td>...</td>\n",
       "      <td>...</td>\n",
       "      <td>...</td>\n",
       "      <td>...</td>\n",
       "      <td>...</td>\n",
       "      <td>...</td>\n",
       "      <td>...</td>\n",
       "      <td>...</td>\n",
       "      <td>...</td>\n",
       "      <td>...</td>\n",
       "      <td>...</td>\n",
       "      <td>...</td>\n",
       "      <td>...</td>\n",
       "    </tr>\n",
       "    <tr>\n",
       "      <th>1606</th>\n",
       "      <td>5.410546e+13</td>\n",
       "      <td>54.0</td>\n",
       "      <td>5410546.0</td>\n",
       "      <td>NaN</td>\n",
       "      <td>D</td>\n",
       "      <td>NaN</td>\n",
       "      <td>Tulare County Office of Education</td>\n",
       "      <td>Tulare</td>\n",
       "      <td>465.0</td>\n",
       "      <td>14.0</td>\n",
       "      <td>NaN</td>\n",
       "      <td>NaN</td>\n",
       "      <td>NaN</td>\n",
       "      <td>NaN</td>\n",
       "      <td>NaN</td>\n",
       "      <td>NaN</td>\n",
       "      <td>2018-19</td>\n",
       "      <td>NaN</td>\n",
       "    </tr>\n",
       "    <tr>\n",
       "      <th>12</th>\n",
       "      <td>1.964733e+13</td>\n",
       "      <td>19.0</td>\n",
       "      <td>1964733.0</td>\n",
       "      <td>126623.0</td>\n",
       "      <td>S</td>\n",
       "      <td>Academy of Medical Arts at Carson High</td>\n",
       "      <td>Los Angeles Unified</td>\n",
       "      <td>Los Angeles</td>\n",
       "      <td>126.0</td>\n",
       "      <td>14.0</td>\n",
       "      <td>NaN</td>\n",
       "      <td>NaN</td>\n",
       "      <td>NaN</td>\n",
       "      <td>NaN</td>\n",
       "      <td>NaN</td>\n",
       "      <td>NaN</td>\n",
       "      <td>2018-19</td>\n",
       "      <td>NaN</td>\n",
       "    </tr>\n",
       "    <tr>\n",
       "      <th>522</th>\n",
       "      <td>3.375176e+13</td>\n",
       "      <td>33.0</td>\n",
       "      <td>3375176.0</td>\n",
       "      <td>3332350.0</td>\n",
       "      <td>S</td>\n",
       "      <td>Elsinore High</td>\n",
       "      <td>Lake Elsinore Unified</td>\n",
       "      <td>Riverside</td>\n",
       "      <td>437.0</td>\n",
       "      <td>14.0</td>\n",
       "      <td>NaN</td>\n",
       "      <td>NaN</td>\n",
       "      <td>NaN</td>\n",
       "      <td>NaN</td>\n",
       "      <td>NaN</td>\n",
       "      <td>NaN</td>\n",
       "      <td>2018-19</td>\n",
       "      <td>NaN</td>\n",
       "    </tr>\n",
       "    <tr>\n",
       "      <th>920</th>\n",
       "      <td>1.764022e+13</td>\n",
       "      <td>17.0</td>\n",
       "      <td>1764022.0</td>\n",
       "      <td>1735000.0</td>\n",
       "      <td>S</td>\n",
       "      <td>Lower Lake High</td>\n",
       "      <td>Konocti Unified</td>\n",
       "      <td>Lake</td>\n",
       "      <td>121.0</td>\n",
       "      <td>14.0</td>\n",
       "      <td>NaN</td>\n",
       "      <td>NaN</td>\n",
       "      <td>NaN</td>\n",
       "      <td>NaN</td>\n",
       "      <td>NaN</td>\n",
       "      <td>NaN</td>\n",
       "      <td>2018-19</td>\n",
       "      <td>NaN</td>\n",
       "    </tr>\n",
       "    <tr>\n",
       "      <th>2309</th>\n",
       "      <td>NaN</td>\n",
       "      <td>NaN</td>\n",
       "      <td>NaN</td>\n",
       "      <td>NaN</td>\n",
       "      <td>NaN</td>\n",
       "      <td>NaN</td>\n",
       "      <td>NaN</td>\n",
       "      <td>NaN</td>\n",
       "      <td>NaN</td>\n",
       "      <td>NaN</td>\n",
       "      <td>NaN</td>\n",
       "      <td>NaN</td>\n",
       "      <td>NaN</td>\n",
       "      <td>NaN</td>\n",
       "      <td>NaN</td>\n",
       "      <td>NaN</td>\n",
       "      <td>NaN</td>\n",
       "      <td>NaN</td>\n",
       "    </tr>\n",
       "  </tbody>\n",
       "</table>\n",
       "<p>889 rows × 18 columns</p>\n",
       "</div>"
      ],
      "text/plain": [
       "               cds  county_code  district_code  school_code row_type  \\\n",
       "0     3.366993e+13         33.0      3366993.0     129882.0        S   \n",
       "1187  1.062539e+13         10.0      1062539.0          NaN        D   \n",
       "1184  1.062380e+13         10.0      1062380.0          NaN        D   \n",
       "1170  9.618380e+12          9.0       961838.0          NaN        D   \n",
       "1167  8.100820e+12          8.0       810082.0          NaN        D   \n",
       "...            ...          ...            ...          ...      ...   \n",
       "1606  5.410546e+13         54.0      5410546.0          NaN        D   \n",
       "12    1.964733e+13         19.0      1964733.0     126623.0        S   \n",
       "522   3.375176e+13         33.0      3375176.0    3332350.0        S   \n",
       "920   1.764022e+13         17.0      1764022.0    1735000.0        S   \n",
       "2309           NaN          NaN            NaN          NaN      NaN   \n",
       "\n",
       "                                 school_name  \\\n",
       "0            21st Century Learning Institute   \n",
       "1187                                     NaN   \n",
       "1184                                     NaN   \n",
       "1170                                     NaN   \n",
       "1167                                     NaN   \n",
       "...                                      ...   \n",
       "1606                                     NaN   \n",
       "12    Academy of Medical Arts at Carson High   \n",
       "522                            Elsinore High   \n",
       "920                          Lower Lake High   \n",
       "2309                                     NaN   \n",
       "\n",
       "                             district_name  county_name  \\\n",
       "0                         Beaumont Unified    Riverside   \n",
       "1187                  West Park Elementary       Fresno   \n",
       "1184                Raisin City Elementary       Fresno   \n",
       "1170              Buckeye Union Elementary    El Dorado   \n",
       "1167  Del Norte County Office of Education    Del Norte   \n",
       "...                                    ...          ...   \n",
       "1606     Tulare County Office of Education       Tulare   \n",
       "12                     Los Angeles Unified  Los Angeles   \n",
       "522                  Lake Elsinore Unified    Riverside   \n",
       "920                        Konocti Unified         Lake   \n",
       "2309                                   NaN          NaN   \n",
       "\n",
       "      enrolled_students_act  num_test_takers_act  ave_read  ave_eng  ave_math  \\\n",
       "0                      18.0                  0.0       NaN      NaN       NaN   \n",
       "1187                   69.0                  0.0       NaN      NaN       NaN   \n",
       "1184                   39.0                  0.0       NaN      NaN       NaN   \n",
       "1170                   25.0                  0.0       NaN      NaN       NaN   \n",
       "1167                  117.0                  0.0       NaN      NaN       NaN   \n",
       "...                     ...                  ...       ...      ...       ...   \n",
       "1606                  465.0                 14.0       NaN      NaN       NaN   \n",
       "12                    126.0                 14.0       NaN      NaN       NaN   \n",
       "522                   437.0                 14.0       NaN      NaN       NaN   \n",
       "920                   121.0                 14.0       NaN      NaN       NaN   \n",
       "2309                    NaN                  NaN       NaN      NaN       NaN   \n",
       "\n",
       "      ave_sci  num_above_21  pct_above_21     year  unnamed  \n",
       "0         NaN           NaN           NaN  2018-19      NaN  \n",
       "1187      NaN           NaN           NaN  2018-19      NaN  \n",
       "1184      NaN           NaN           NaN  2018-19      NaN  \n",
       "1170      NaN           NaN           NaN  2018-19      NaN  \n",
       "1167      NaN           NaN           NaN  2018-19      NaN  \n",
       "...       ...           ...           ...      ...      ...  \n",
       "1606      NaN           NaN           NaN  2018-19      NaN  \n",
       "12        NaN           NaN           NaN  2018-19      NaN  \n",
       "522       NaN           NaN           NaN  2018-19      NaN  \n",
       "920       NaN           NaN           NaN  2018-19      NaN  \n",
       "2309      NaN           NaN           NaN      NaN      NaN  \n",
       "\n",
       "[889 rows x 18 columns]"
      ]
     },
     "execution_count": 705,
     "metadata": {},
     "output_type": "execute_result"
    }
   ],
   "source": [
    "#Score values are not recorded for schools with less than 15 test takers\n",
    "act.loc[act[\"ave_read\"].isnull(),:].sort_values(\"num_test_takers_act\")"
   ]
  },
  {
   "cell_type": "code",
   "execution_count": 706,
   "metadata": {},
   "outputs": [
    {
     "data": {
      "text/html": [
       "<div>\n",
       "<style scoped>\n",
       "    .dataframe tbody tr th:only-of-type {\n",
       "        vertical-align: middle;\n",
       "    }\n",
       "\n",
       "    .dataframe tbody tr th {\n",
       "        vertical-align: top;\n",
       "    }\n",
       "\n",
       "    .dataframe thead th {\n",
       "        text-align: right;\n",
       "    }\n",
       "</style>\n",
       "<table border=\"1\" class=\"dataframe\">\n",
       "  <thead>\n",
       "    <tr style=\"text-align: right;\">\n",
       "      <th></th>\n",
       "      <th>cds</th>\n",
       "      <th>county_code</th>\n",
       "      <th>district_code</th>\n",
       "      <th>school_code</th>\n",
       "      <th>row_type</th>\n",
       "      <th>school_name</th>\n",
       "      <th>district_name</th>\n",
       "      <th>county_name</th>\n",
       "      <th>enrolled_students_act</th>\n",
       "      <th>num_test_takers_act</th>\n",
       "      <th>ave_read</th>\n",
       "      <th>ave_eng</th>\n",
       "      <th>ave_math</th>\n",
       "      <th>ave_sci</th>\n",
       "      <th>num_above_21</th>\n",
       "      <th>pct_above_21</th>\n",
       "      <th>year</th>\n",
       "      <th>unnamed</th>\n",
       "    </tr>\n",
       "  </thead>\n",
       "  <tbody>\n",
       "    <tr>\n",
       "      <th>1064</th>\n",
       "      <td>3.400000e+13</td>\n",
       "      <td>34.0</td>\n",
       "      <td>0.0</td>\n",
       "      <td>0.0</td>\n",
       "      <td>C</td>\n",
       "      <td>NaN</td>\n",
       "      <td>NaN</td>\n",
       "      <td>Sacramento</td>\n",
       "      <td>19540.0</td>\n",
       "      <td>3065.0</td>\n",
       "      <td>21.0</td>\n",
       "      <td>20.0</td>\n",
       "      <td>21.0</td>\n",
       "      <td>21.0</td>\n",
       "      <td>1526.0</td>\n",
       "      <td>49.79</td>\n",
       "      <td>2018-19</td>\n",
       "      <td>NaN</td>\n",
       "    </tr>\n",
       "    <tr>\n",
       "      <th>1065</th>\n",
       "      <td>3.900000e+13</td>\n",
       "      <td>39.0</td>\n",
       "      <td>0.0</td>\n",
       "      <td>0.0</td>\n",
       "      <td>C</td>\n",
       "      <td>NaN</td>\n",
       "      <td>NaN</td>\n",
       "      <td>San Joaquin</td>\n",
       "      <td>11778.0</td>\n",
       "      <td>1348.0</td>\n",
       "      <td>22.0</td>\n",
       "      <td>21.0</td>\n",
       "      <td>21.0</td>\n",
       "      <td>21.0</td>\n",
       "      <td>693.0</td>\n",
       "      <td>51.41</td>\n",
       "      <td>2018-19</td>\n",
       "      <td>NaN</td>\n",
       "    </tr>\n",
       "    <tr>\n",
       "      <th>1066</th>\n",
       "      <td>1.500000e+13</td>\n",
       "      <td>15.0</td>\n",
       "      <td>0.0</td>\n",
       "      <td>0.0</td>\n",
       "      <td>C</td>\n",
       "      <td>NaN</td>\n",
       "      <td>NaN</td>\n",
       "      <td>Kern</td>\n",
       "      <td>14229.0</td>\n",
       "      <td>1257.0</td>\n",
       "      <td>21.0</td>\n",
       "      <td>20.0</td>\n",
       "      <td>20.0</td>\n",
       "      <td>20.0</td>\n",
       "      <td>544.0</td>\n",
       "      <td>43.28</td>\n",
       "      <td>2018-19</td>\n",
       "      <td>NaN</td>\n",
       "    </tr>\n",
       "    <tr>\n",
       "      <th>1067</th>\n",
       "      <td>4.500000e+13</td>\n",
       "      <td>45.0</td>\n",
       "      <td>0.0</td>\n",
       "      <td>0.0</td>\n",
       "      <td>C</td>\n",
       "      <td>NaN</td>\n",
       "      <td>NaN</td>\n",
       "      <td>Shasta</td>\n",
       "      <td>2161.0</td>\n",
       "      <td>173.0</td>\n",
       "      <td>26.0</td>\n",
       "      <td>24.0</td>\n",
       "      <td>24.0</td>\n",
       "      <td>24.0</td>\n",
       "      <td>131.0</td>\n",
       "      <td>75.72</td>\n",
       "      <td>2018-19</td>\n",
       "      <td>NaN</td>\n",
       "    </tr>\n",
       "    <tr>\n",
       "      <th>1068</th>\n",
       "      <td>5.100000e+13</td>\n",
       "      <td>51.0</td>\n",
       "      <td>0.0</td>\n",
       "      <td>0.0</td>\n",
       "      <td>C</td>\n",
       "      <td>NaN</td>\n",
       "      <td>NaN</td>\n",
       "      <td>Sutter</td>\n",
       "      <td>1827.0</td>\n",
       "      <td>196.0</td>\n",
       "      <td>23.0</td>\n",
       "      <td>22.0</td>\n",
       "      <td>22.0</td>\n",
       "      <td>22.0</td>\n",
       "      <td>117.0</td>\n",
       "      <td>59.69</td>\n",
       "      <td>2018-19</td>\n",
       "      <td>NaN</td>\n",
       "    </tr>\n",
       "  </tbody>\n",
       "</table>\n",
       "</div>"
      ],
      "text/plain": [
       "               cds  county_code  district_code  school_code row_type  \\\n",
       "1064  3.400000e+13         34.0            0.0          0.0        C   \n",
       "1065  3.900000e+13         39.0            0.0          0.0        C   \n",
       "1066  1.500000e+13         15.0            0.0          0.0        C   \n",
       "1067  4.500000e+13         45.0            0.0          0.0        C   \n",
       "1068  5.100000e+13         51.0            0.0          0.0        C   \n",
       "\n",
       "     school_name district_name  county_name  enrolled_students_act  \\\n",
       "1064         NaN           NaN   Sacramento                19540.0   \n",
       "1065         NaN           NaN  San Joaquin                11778.0   \n",
       "1066         NaN           NaN         Kern                14229.0   \n",
       "1067         NaN           NaN       Shasta                 2161.0   \n",
       "1068         NaN           NaN       Sutter                 1827.0   \n",
       "\n",
       "      num_test_takers_act  ave_read  ave_eng  ave_math  ave_sci  num_above_21  \\\n",
       "1064               3065.0      21.0     20.0      21.0     21.0        1526.0   \n",
       "1065               1348.0      22.0     21.0      21.0     21.0         693.0   \n",
       "1066               1257.0      21.0     20.0      20.0     20.0         544.0   \n",
       "1067                173.0      26.0     24.0      24.0     24.0         131.0   \n",
       "1068                196.0      23.0     22.0      22.0     22.0         117.0   \n",
       "\n",
       "      pct_above_21     year  unnamed  \n",
       "1064         49.79  2018-19      NaN  \n",
       "1065         51.41  2018-19      NaN  \n",
       "1066         43.28  2018-19      NaN  \n",
       "1067         75.72  2018-19      NaN  \n",
       "1068         59.69  2018-19      NaN  "
      ]
     },
     "execution_count": 706,
     "metadata": {},
     "output_type": "execute_result"
    }
   ],
   "source": [
    "#Rows that aggregate scores for counties have null values for school_name and district_name\n",
    "act.loc[(act[\"row_type\"]==\"C\"),:].head()"
   ]
  },
  {
   "cell_type": "code",
   "execution_count": 707,
   "metadata": {},
   "outputs": [],
   "source": [
    "#Remove empty row\n",
    "act.drop(2309, inplace = True)\n",
    "\n",
    "#Remove empty column\n",
    "act.drop(\"unnamed\", axis=1, inplace = True)"
   ]
  },
  {
   "cell_type": "markdown",
   "metadata": {},
   "source": [
    "##### Adding columns"
   ]
  },
  {
   "cell_type": "markdown",
   "metadata": {},
   "source": [
    "I want to investigate if income and expenditures may also affect participation rate. I will create a participation rate column but want to exclude data points from my analysis if the number of enrolled students is less than 15. This is because if the number enrolled is small, small variations in number of test-takers can lead to wide changes in participation rate (e.g. 0 test takers out of 1 enrolled is 0% but 1 test taker out of 1 enrolled is 100%)."
   ]
  },
  {
   "cell_type": "code",
   "execution_count": 708,
   "metadata": {},
   "outputs": [],
   "source": [
    "#Creating a participation rate column, returning null values if number enrolled is less than 30\n",
    "act[\"participation_act\"] = np.where(act[\"enrolled_students_act\"]>= 30, act[\"num_test_takers_act\"] / act[\"enrolled_students_act\"], np.nan)"
   ]
  },
  {
   "cell_type": "code",
   "execution_count": 709,
   "metadata": {},
   "outputs": [
    {
     "data": {
      "text/html": [
       "<div>\n",
       "<style scoped>\n",
       "    .dataframe tbody tr th:only-of-type {\n",
       "        vertical-align: middle;\n",
       "    }\n",
       "\n",
       "    .dataframe tbody tr th {\n",
       "        vertical-align: top;\n",
       "    }\n",
       "\n",
       "    .dataframe thead th {\n",
       "        text-align: right;\n",
       "    }\n",
       "</style>\n",
       "<table border=\"1\" class=\"dataframe\">\n",
       "  <thead>\n",
       "    <tr style=\"text-align: right;\">\n",
       "      <th></th>\n",
       "      <th>cds</th>\n",
       "      <th>county_code</th>\n",
       "      <th>district_code</th>\n",
       "      <th>school_code</th>\n",
       "      <th>enrolled_students_act</th>\n",
       "      <th>num_test_takers_act</th>\n",
       "      <th>ave_read</th>\n",
       "      <th>ave_eng</th>\n",
       "      <th>ave_math</th>\n",
       "      <th>ave_sci</th>\n",
       "      <th>num_above_21</th>\n",
       "      <th>pct_above_21</th>\n",
       "      <th>participation_act</th>\n",
       "    </tr>\n",
       "  </thead>\n",
       "  <tbody>\n",
       "    <tr>\n",
       "      <th>count</th>\n",
       "      <td>2.309000e+03</td>\n",
       "      <td>2309.000000</td>\n",
       "      <td>2.309000e+03</td>\n",
       "      <td>1.787000e+03</td>\n",
       "      <td>2309.000000</td>\n",
       "      <td>2309.000000</td>\n",
       "      <td>1421.000000</td>\n",
       "      <td>1421.000000</td>\n",
       "      <td>1421.000000</td>\n",
       "      <td>1421.000000</td>\n",
       "      <td>1421.000000</td>\n",
       "      <td>1421.000000</td>\n",
       "      <td>2100.000000</td>\n",
       "    </tr>\n",
       "    <tr>\n",
       "      <th>mean</th>\n",
       "      <td>2.929718e+13</td>\n",
       "      <td>28.666522</td>\n",
       "      <td>2.855616e+06</td>\n",
       "      <td>1.902681e+06</td>\n",
       "      <td>828.172802</td>\n",
       "      <td>143.182763</td>\n",
       "      <td>22.075299</td>\n",
       "      <td>21.204082</td>\n",
       "      <td>21.416608</td>\n",
       "      <td>21.356791</td>\n",
       "      <td>126.960591</td>\n",
       "      <td>52.618994</td>\n",
       "      <td>0.178038</td>\n",
       "    </tr>\n",
       "    <tr>\n",
       "      <th>std</th>\n",
       "      <td>1.444996e+13</td>\n",
       "      <td>14.425498</td>\n",
       "      <td>1.492574e+06</td>\n",
       "      <td>1.838954e+06</td>\n",
       "      <td>10667.048988</td>\n",
       "      <td>1816.545548</td>\n",
       "      <td>3.673367</td>\n",
       "      <td>4.045587</td>\n",
       "      <td>3.380492</td>\n",
       "      <td>3.210470</td>\n",
       "      <td>1261.360177</td>\n",
       "      <td>25.580458</td>\n",
       "      <td>0.210239</td>\n",
       "    </tr>\n",
       "    <tr>\n",
       "      <th>min</th>\n",
       "      <td>0.000000e+00</td>\n",
       "      <td>0.000000</td>\n",
       "      <td>0.000000e+00</td>\n",
       "      <td>0.000000e+00</td>\n",
       "      <td>0.000000</td>\n",
       "      <td>0.000000</td>\n",
       "      <td>12.000000</td>\n",
       "      <td>10.000000</td>\n",
       "      <td>14.000000</td>\n",
       "      <td>12.000000</td>\n",
       "      <td>0.000000</td>\n",
       "      <td>0.000000</td>\n",
       "      <td>0.000000</td>\n",
       "    </tr>\n",
       "    <tr>\n",
       "      <th>25%</th>\n",
       "      <td>1.964725e+13</td>\n",
       "      <td>19.000000</td>\n",
       "      <td>1.964519e+06</td>\n",
       "      <td>1.254385e+05</td>\n",
       "      <td>78.000000</td>\n",
       "      <td>3.000000</td>\n",
       "      <td>19.000000</td>\n",
       "      <td>18.000000</td>\n",
       "      <td>19.000000</td>\n",
       "      <td>19.000000</td>\n",
       "      <td>14.000000</td>\n",
       "      <td>31.130000</td>\n",
       "      <td>0.048942</td>\n",
       "    </tr>\n",
       "    <tr>\n",
       "      <th>50%</th>\n",
       "      <td>3.066647e+13</td>\n",
       "      <td>30.000000</td>\n",
       "      <td>3.066548e+06</td>\n",
       "      <td>1.930288e+06</td>\n",
       "      <td>218.000000</td>\n",
       "      <td>30.000000</td>\n",
       "      <td>22.000000</td>\n",
       "      <td>21.000000</td>\n",
       "      <td>21.000000</td>\n",
       "      <td>21.000000</td>\n",
       "      <td>29.000000</td>\n",
       "      <td>54.170000</td>\n",
       "      <td>0.123571</td>\n",
       "    </tr>\n",
       "    <tr>\n",
       "      <th>75%</th>\n",
       "      <td>3.868478e+13</td>\n",
       "      <td>38.000000</td>\n",
       "      <td>3.777032e+06</td>\n",
       "      <td>3.435674e+06</td>\n",
       "      <td>497.000000</td>\n",
       "      <td>86.000000</td>\n",
       "      <td>25.000000</td>\n",
       "      <td>24.000000</td>\n",
       "      <td>24.000000</td>\n",
       "      <td>24.000000</td>\n",
       "      <td>77.000000</td>\n",
       "      <td>74.740000</td>\n",
       "      <td>0.226565</td>\n",
       "    </tr>\n",
       "    <tr>\n",
       "      <th>max</th>\n",
       "      <td>5.872770e+13</td>\n",
       "      <td>58.000000</td>\n",
       "      <td>5.872769e+06</td>\n",
       "      <td>6.120893e+06</td>\n",
       "      <td>489650.000000</td>\n",
       "      <td>82668.000000</td>\n",
       "      <td>32.000000</td>\n",
       "      <td>32.000000</td>\n",
       "      <td>32.000000</td>\n",
       "      <td>31.000000</td>\n",
       "      <td>45466.000000</td>\n",
       "      <td>100.000000</td>\n",
       "      <td>2.323077</td>\n",
       "    </tr>\n",
       "  </tbody>\n",
       "</table>\n",
       "</div>"
      ],
      "text/plain": [
       "                cds  county_code  district_code   school_code  \\\n",
       "count  2.309000e+03  2309.000000   2.309000e+03  1.787000e+03   \n",
       "mean   2.929718e+13    28.666522   2.855616e+06  1.902681e+06   \n",
       "std    1.444996e+13    14.425498   1.492574e+06  1.838954e+06   \n",
       "min    0.000000e+00     0.000000   0.000000e+00  0.000000e+00   \n",
       "25%    1.964725e+13    19.000000   1.964519e+06  1.254385e+05   \n",
       "50%    3.066647e+13    30.000000   3.066548e+06  1.930288e+06   \n",
       "75%    3.868478e+13    38.000000   3.777032e+06  3.435674e+06   \n",
       "max    5.872770e+13    58.000000   5.872769e+06  6.120893e+06   \n",
       "\n",
       "       enrolled_students_act  num_test_takers_act     ave_read      ave_eng  \\\n",
       "count            2309.000000          2309.000000  1421.000000  1421.000000   \n",
       "mean              828.172802           143.182763    22.075299    21.204082   \n",
       "std             10667.048988          1816.545548     3.673367     4.045587   \n",
       "min                 0.000000             0.000000    12.000000    10.000000   \n",
       "25%                78.000000             3.000000    19.000000    18.000000   \n",
       "50%               218.000000            30.000000    22.000000    21.000000   \n",
       "75%               497.000000            86.000000    25.000000    24.000000   \n",
       "max            489650.000000         82668.000000    32.000000    32.000000   \n",
       "\n",
       "          ave_math      ave_sci  num_above_21  pct_above_21  participation_act  \n",
       "count  1421.000000  1421.000000   1421.000000   1421.000000        2100.000000  \n",
       "mean     21.416608    21.356791    126.960591     52.618994           0.178038  \n",
       "std       3.380492     3.210470   1261.360177     25.580458           0.210239  \n",
       "min      14.000000    12.000000      0.000000      0.000000           0.000000  \n",
       "25%      19.000000    19.000000     14.000000     31.130000           0.048942  \n",
       "50%      21.000000    21.000000     29.000000     54.170000           0.123571  \n",
       "75%      24.000000    24.000000     77.000000     74.740000           0.226565  \n",
       "max      32.000000    31.000000  45466.000000    100.000000           2.323077  "
      ]
     },
     "execution_count": 709,
     "metadata": {},
     "output_type": "execute_result"
    }
   ],
   "source": [
    "#Check min and max values comply with min and max possible values - participation is weird\n",
    "act.describe()"
   ]
  },
  {
   "cell_type": "markdown",
   "metadata": {},
   "source": [
    "As seen above, there are districts with more test takers than enrolled students. Those should be deleted."
   ]
  },
  {
   "cell_type": "code",
   "execution_count": 710,
   "metadata": {},
   "outputs": [],
   "source": [
    "#Dropping rows with enrollment rate exceeding 1\n",
    "act.drop(act.index[act[\"participation_act\"]>1], inplace = True)"
   ]
  },
  {
   "cell_type": "markdown",
   "metadata": {},
   "source": [
    "#### Cleaning California SAT Scores Data"
   ]
  },
  {
   "cell_type": "markdown",
   "metadata": {},
   "source": [
    "This dataset has score data for both 12 graders and 11 graders. I will drop the columns for 11 graders as there is only data for 12 graders in the ACT dataset and there are too many columns in the SAT dataset. I will also drop the unnamed column which is an empty column like in the ACT score dataset."
   ]
  },
  {
   "cell_type": "code",
   "execution_count": 711,
   "metadata": {},
   "outputs": [
    {
     "data": {
      "text/html": [
       "<div>\n",
       "<style scoped>\n",
       "    .dataframe tbody tr th:only-of-type {\n",
       "        vertical-align: middle;\n",
       "    }\n",
       "\n",
       "    .dataframe tbody tr th {\n",
       "        vertical-align: top;\n",
       "    }\n",
       "\n",
       "    .dataframe thead th {\n",
       "        text-align: right;\n",
       "    }\n",
       "</style>\n",
       "<table border=\"1\" class=\"dataframe\">\n",
       "  <thead>\n",
       "    <tr style=\"text-align: right;\">\n",
       "      <th></th>\n",
       "      <th>cds</th>\n",
       "      <th>county_code</th>\n",
       "      <th>district_code</th>\n",
       "      <th>school_code</th>\n",
       "      <th>row_type</th>\n",
       "      <th>school_name</th>\n",
       "      <th>district_name</th>\n",
       "      <th>county_name</th>\n",
       "      <th>enrolled_students_sat</th>\n",
       "      <th>num_test_takers_sat</th>\n",
       "      <th>num_erw_above_bench</th>\n",
       "      <th>pct_erw_above_bench</th>\n",
       "      <th>num_math_above_bench</th>\n",
       "      <th>pct_math_above_bench</th>\n",
       "      <th>num_both_above_bench</th>\n",
       "      <th>pct_both_above_bench</th>\n",
       "      <th>year</th>\n",
       "    </tr>\n",
       "  </thead>\n",
       "  <tbody>\n",
       "    <tr>\n",
       "      <th>0</th>\n",
       "      <td>6.615981e+12</td>\n",
       "      <td>6.0</td>\n",
       "      <td>661598.0</td>\n",
       "      <td>630046.0</td>\n",
       "      <td>S</td>\n",
       "      <td>Colusa Alternative Home</td>\n",
       "      <td>Colusa Unified</td>\n",
       "      <td>Colusa</td>\n",
       "      <td>18.0</td>\n",
       "      <td>0.0</td>\n",
       "      <td>NaN</td>\n",
       "      <td>NaN</td>\n",
       "      <td>NaN</td>\n",
       "      <td>NaN</td>\n",
       "      <td>NaN</td>\n",
       "      <td>NaN</td>\n",
       "      <td>2018-19</td>\n",
       "    </tr>\n",
       "    <tr>\n",
       "      <th>1</th>\n",
       "      <td>6.616061e+12</td>\n",
       "      <td>6.0</td>\n",
       "      <td>661606.0</td>\n",
       "      <td>634758.0</td>\n",
       "      <td>S</td>\n",
       "      <td>Maxwell Sr High</td>\n",
       "      <td>Maxwell Unified</td>\n",
       "      <td>Colusa</td>\n",
       "      <td>29.0</td>\n",
       "      <td>10.0</td>\n",
       "      <td>*</td>\n",
       "      <td>*</td>\n",
       "      <td>*</td>\n",
       "      <td>*</td>\n",
       "      <td>*</td>\n",
       "      <td>*</td>\n",
       "      <td>2018-19</td>\n",
       "    </tr>\n",
       "    <tr>\n",
       "      <th>2</th>\n",
       "      <td>1.964733e+13</td>\n",
       "      <td>19.0</td>\n",
       "      <td>1964733.0</td>\n",
       "      <td>1930924.0</td>\n",
       "      <td>S</td>\n",
       "      <td>Belmont Senior High</td>\n",
       "      <td>Los Angeles Unified</td>\n",
       "      <td>Los Angeles</td>\n",
       "      <td>206.0</td>\n",
       "      <td>102.0</td>\n",
       "      <td>31</td>\n",
       "      <td>30.39</td>\n",
       "      <td>14</td>\n",
       "      <td>13.73</td>\n",
       "      <td>14</td>\n",
       "      <td>13.73</td>\n",
       "      <td>2018-19</td>\n",
       "    </tr>\n",
       "    <tr>\n",
       "      <th>3</th>\n",
       "      <td>1.964733e+13</td>\n",
       "      <td>19.0</td>\n",
       "      <td>1964733.0</td>\n",
       "      <td>1931476.0</td>\n",
       "      <td>S</td>\n",
       "      <td>Canoga Park Senior High</td>\n",
       "      <td>Los Angeles Unified</td>\n",
       "      <td>Los Angeles</td>\n",
       "      <td>227.0</td>\n",
       "      <td>113.0</td>\n",
       "      <td>54</td>\n",
       "      <td>47.79</td>\n",
       "      <td>18</td>\n",
       "      <td>15.93</td>\n",
       "      <td>18</td>\n",
       "      <td>15.93</td>\n",
       "      <td>2018-19</td>\n",
       "    </tr>\n",
       "    <tr>\n",
       "      <th>4</th>\n",
       "      <td>1.964733e+13</td>\n",
       "      <td>19.0</td>\n",
       "      <td>1964733.0</td>\n",
       "      <td>1931856.0</td>\n",
       "      <td>S</td>\n",
       "      <td>Whitman Continuation</td>\n",
       "      <td>Los Angeles Unified</td>\n",
       "      <td>Los Angeles</td>\n",
       "      <td>18.0</td>\n",
       "      <td>14.0</td>\n",
       "      <td>*</td>\n",
       "      <td>*</td>\n",
       "      <td>*</td>\n",
       "      <td>*</td>\n",
       "      <td>*</td>\n",
       "      <td>*</td>\n",
       "      <td>2018-19</td>\n",
       "    </tr>\n",
       "  </tbody>\n",
       "</table>\n",
       "</div>"
      ],
      "text/plain": [
       "            cds  county_code  district_code  school_code row_type  \\\n",
       "0  6.615981e+12          6.0       661598.0     630046.0        S   \n",
       "1  6.616061e+12          6.0       661606.0     634758.0        S   \n",
       "2  1.964733e+13         19.0      1964733.0    1930924.0        S   \n",
       "3  1.964733e+13         19.0      1964733.0    1931476.0        S   \n",
       "4  1.964733e+13         19.0      1964733.0    1931856.0        S   \n",
       "\n",
       "               school_name        district_name  county_name  \\\n",
       "0  Colusa Alternative Home       Colusa Unified       Colusa   \n",
       "1          Maxwell Sr High      Maxwell Unified       Colusa   \n",
       "2      Belmont Senior High  Los Angeles Unified  Los Angeles   \n",
       "3  Canoga Park Senior High  Los Angeles Unified  Los Angeles   \n",
       "4     Whitman Continuation  Los Angeles Unified  Los Angeles   \n",
       "\n",
       "   enrolled_students_sat  num_test_takers_sat num_erw_above_bench  \\\n",
       "0                   18.0                  0.0                 NaN   \n",
       "1                   29.0                 10.0                   *   \n",
       "2                  206.0                102.0                  31   \n",
       "3                  227.0                113.0                  54   \n",
       "4                   18.0                 14.0                   *   \n",
       "\n",
       "  pct_erw_above_bench num_math_above_bench pct_math_above_bench  \\\n",
       "0                 NaN                  NaN                  NaN   \n",
       "1                   *                    *                    *   \n",
       "2               30.39                   14                13.73   \n",
       "3               47.79                   18                15.93   \n",
       "4                   *                    *                    *   \n",
       "\n",
       "  num_both_above_bench pct_both_above_bench     year  \n",
       "0                  NaN                  NaN  2018-19  \n",
       "1                    *                    *  2018-19  \n",
       "2                   14                13.73  2018-19  \n",
       "3                   18                15.93  2018-19  \n",
       "4                    *                    *  2018-19  "
      ]
     },
     "execution_count": 711,
     "metadata": {},
     "output_type": "execute_result"
    }
   ],
   "source": [
    "#Import California SAT Scores\n",
    "sat_col_names = [\"cds\", \n",
    "                 \"county_code\",\n",
    "                 \"district_code\",\n",
    "                 \"school_code\",\n",
    "                 \"row_type\",\n",
    "                 \"school_name\",\n",
    "                 \"district_name\",\n",
    "                 \"county_name\",\n",
    "                 \"enrolled_students_sat\",\n",
    "                 \"num_test_takers_sat\",\n",
    "                 \"num_erw_above_bench\",\n",
    "                 \"pct_erw_above_bench\",\n",
    "                 \"num_math_above_bench\",\n",
    "                 \"pct_math_above_bench\",\n",
    "                 \"enrolled_students_11\",\n",
    "                 \"num_test_takers_11\",\n",
    "                 \"num_erw_above_bench_11\",\n",
    "                 \"pct_erw_above_bench_11\",\n",
    "                 \"num_math_above_bench_11\",\n",
    "                 \"pct_math_above_bench_11\",\n",
    "                 \"num_both_above_bench\",\n",
    "                 \"pct_both_above_bench\",\n",
    "                 \"num_both_above_bench_11\",\n",
    "                 \"pct_both_above_bench_11\",\n",
    "                 \"year\",\n",
    "                 \"unnamed\"]\n",
    "\n",
    "sat = pd.read_csv(\"../data/sat_2019_ca.csv\", header = 0, names = sat_col_names)\n",
    "\n",
    "#Drop columns for 11 graders\n",
    "sat_cols_to_drop = [\"enrolled_students_11\",\n",
    "                    \"num_test_takers_11\",\n",
    "                    \"num_erw_above_bench_11\",\n",
    "                    \"pct_erw_above_bench_11\",\n",
    "                    \"num_math_above_bench_11\",\n",
    "                    \"pct_math_above_bench_11\",\n",
    "                    \"num_both_above_bench_11\",\n",
    "                    \"pct_both_above_bench_11\",\n",
    "                    \"unnamed\"]\n",
    "\n",
    "sat.drop(sat_cols_to_drop, axis = 1, inplace = True)\n",
    "\n",
    "#Print first five rows of dataframe\n",
    "sat.head()"
   ]
  },
  {
   "cell_type": "markdown",
   "metadata": {},
   "source": [
    "Again, values for score columns are objects rather than floats. This is because values are keyed as * for schools with less than 15 test takers and values for those with 0 test takers are \"nan\"."
   ]
  },
  {
   "cell_type": "code",
   "execution_count": 712,
   "metadata": {},
   "outputs": [
    {
     "data": {
      "text/plain": [
       "cds                      float64\n",
       "county_code              float64\n",
       "district_code            float64\n",
       "school_code              float64\n",
       "row_type                  object\n",
       "school_name               object\n",
       "district_name             object\n",
       "county_name               object\n",
       "enrolled_students_sat    float64\n",
       "num_test_takers_sat      float64\n",
       "num_erw_above_bench       object\n",
       "pct_erw_above_bench       object\n",
       "num_math_above_bench      object\n",
       "pct_math_above_bench      object\n",
       "num_both_above_bench      object\n",
       "pct_both_above_bench      object\n",
       "year                      object\n",
       "dtype: object"
      ]
     },
     "execution_count": 712,
     "metadata": {},
     "output_type": "execute_result"
    }
   ],
   "source": [
    "sat.dtypes"
   ]
  },
  {
   "cell_type": "code",
   "execution_count": 713,
   "metadata": {},
   "outputs": [],
   "source": [
    "sat_convert_cols = [\"num_erw_above_bench\", \n",
    "                    \"pct_erw_above_bench\",\n",
    "                    \"num_math_above_bench\", \n",
    "                    \"pct_math_above_bench\", \n",
    "                    \"num_both_above_bench\", \n",
    "                    \"pct_both_above_bench\"]\n",
    "\n",
    "#Convert \"*\" and \"nan\" values into null values\n",
    "sat[sat_convert_cols] = sat[sat_convert_cols].replace(\"*\", np.nan)\n",
    "sat[sat_convert_cols] = sat[sat_convert_cols].replace(\"nan\", np.nan)\n",
    "\n",
    "#Convert score values to floats\n",
    "sat[sat_convert_cols] = sat[sat_convert_cols].astype(float, errors = \"ignore\")"
   ]
  },
  {
   "cell_type": "markdown",
   "metadata": {},
   "source": [
    "Like the ACT dataset, the missing school and district name values are due to aggregate rows for counties and districts. missing values for score columns are due to values being omitted for schools with less than 15 test takers."
   ]
  },
  {
   "cell_type": "code",
   "execution_count": 714,
   "metadata": {},
   "outputs": [
    {
     "data": {
      "text/plain": [
       "cds                        0\n",
       "county_code                0\n",
       "district_code              0\n",
       "school_code                0\n",
       "row_type                   0\n",
       "school_name              597\n",
       "district_name             58\n",
       "county_name                0\n",
       "enrolled_students_sat      0\n",
       "num_test_takers_sat        0\n",
       "num_erw_above_bench      857\n",
       "pct_erw_above_bench      857\n",
       "num_math_above_bench     857\n",
       "pct_math_above_bench     857\n",
       "num_both_above_bench     857\n",
       "pct_both_above_bench     857\n",
       "year                       0\n",
       "dtype: int64"
      ]
     },
     "execution_count": 714,
     "metadata": {},
     "output_type": "execute_result"
    }
   ],
   "source": [
    "#Remove empty row\n",
    "sat.drop(2579, inplace = True)\n",
    "\n",
    "#Check for missing values\n",
    "sat.isnull().sum()"
   ]
  },
  {
   "cell_type": "code",
   "execution_count": 715,
   "metadata": {},
   "outputs": [],
   "source": [
    "#Creating a participation rate column, returning null values if number enrolled is less than 30\n",
    "sat[\"participation_sat\"] = np.where(sat[\"enrolled_students_sat\"]>= 30, sat[\"num_test_takers_sat\"] / sat[\"enrolled_students_sat\"], np.nan)"
   ]
  },
  {
   "cell_type": "markdown",
   "metadata": {},
   "source": [
    "There's are again rows where number of test takers exceed the number of enrolled students."
   ]
  },
  {
   "cell_type": "code",
   "execution_count": 716,
   "metadata": {},
   "outputs": [
    {
     "data": {
      "text/html": [
       "<div>\n",
       "<style scoped>\n",
       "    .dataframe tbody tr th:only-of-type {\n",
       "        vertical-align: middle;\n",
       "    }\n",
       "\n",
       "    .dataframe tbody tr th {\n",
       "        vertical-align: top;\n",
       "    }\n",
       "\n",
       "    .dataframe thead th {\n",
       "        text-align: right;\n",
       "    }\n",
       "</style>\n",
       "<table border=\"1\" class=\"dataframe\">\n",
       "  <thead>\n",
       "    <tr style=\"text-align: right;\">\n",
       "      <th></th>\n",
       "      <th>cds</th>\n",
       "      <th>county_code</th>\n",
       "      <th>district_code</th>\n",
       "      <th>school_code</th>\n",
       "      <th>enrolled_students_sat</th>\n",
       "      <th>num_test_takers_sat</th>\n",
       "      <th>num_erw_above_bench</th>\n",
       "      <th>pct_erw_above_bench</th>\n",
       "      <th>num_math_above_bench</th>\n",
       "      <th>pct_math_above_bench</th>\n",
       "      <th>num_both_above_bench</th>\n",
       "      <th>pct_both_above_bench</th>\n",
       "      <th>participation_sat</th>\n",
       "    </tr>\n",
       "  </thead>\n",
       "  <tbody>\n",
       "    <tr>\n",
       "      <th>count</th>\n",
       "      <td>2.579000e+03</td>\n",
       "      <td>2579.000000</td>\n",
       "      <td>2.579000e+03</td>\n",
       "      <td>2.579000e+03</td>\n",
       "      <td>2579.000000</td>\n",
       "      <td>2579.000000</td>\n",
       "      <td>1722.000000</td>\n",
       "      <td>1722.000000</td>\n",
       "      <td>1722.000000</td>\n",
       "      <td>1722.000000</td>\n",
       "      <td>1722.000000</td>\n",
       "      <td>1722.000000</td>\n",
       "      <td>2226.000000</td>\n",
       "    </tr>\n",
       "    <tr>\n",
       "      <th>mean</th>\n",
       "      <td>2.915139e+13</td>\n",
       "      <td>28.519581</td>\n",
       "      <td>2.915138e+06</td>\n",
       "      <td>1.544913e+06</td>\n",
       "      <td>748.155487</td>\n",
       "      <td>264.274137</td>\n",
       "      <td>269.540070</td>\n",
       "      <td>68.318438</td>\n",
       "      <td>188.859466</td>\n",
       "      <td>45.783542</td>\n",
       "      <td>178.732288</td>\n",
       "      <td>43.371707</td>\n",
       "      <td>0.322313</td>\n",
       "    </tr>\n",
       "    <tr>\n",
       "      <th>std</th>\n",
       "      <td>1.428328e+13</td>\n",
       "      <td>14.258173</td>\n",
       "      <td>1.428327e+06</td>\n",
       "      <td>1.812049e+06</td>\n",
       "      <td>10095.758681</td>\n",
       "      <td>3568.205236</td>\n",
       "      <td>2956.948278</td>\n",
       "      <td>20.329336</td>\n",
       "      <td>2063.412843</td>\n",
       "      <td>22.877347</td>\n",
       "      <td>1951.895654</td>\n",
       "      <td>22.892739</td>\n",
       "      <td>0.222017</td>\n",
       "    </tr>\n",
       "    <tr>\n",
       "      <th>min</th>\n",
       "      <td>0.000000e+00</td>\n",
       "      <td>0.000000</td>\n",
       "      <td>0.000000e+00</td>\n",
       "      <td>0.000000e+00</td>\n",
       "      <td>0.000000</td>\n",
       "      <td>0.000000</td>\n",
       "      <td>0.000000</td>\n",
       "      <td>0.000000</td>\n",
       "      <td>0.000000</td>\n",
       "      <td>0.000000</td>\n",
       "      <td>0.000000</td>\n",
       "      <td>0.000000</td>\n",
       "      <td>0.000000</td>\n",
       "    </tr>\n",
       "    <tr>\n",
       "      <th>25%</th>\n",
       "      <td>1.964725e+13</td>\n",
       "      <td>19.000000</td>\n",
       "      <td>1.964725e+06</td>\n",
       "      <td>1.025080e+05</td>\n",
       "      <td>63.000000</td>\n",
       "      <td>5.000000</td>\n",
       "      <td>33.000000</td>\n",
       "      <td>54.622500</td>\n",
       "      <td>17.000000</td>\n",
       "      <td>27.512500</td>\n",
       "      <td>16.000000</td>\n",
       "      <td>25.000000</td>\n",
       "      <td>0.182986</td>\n",
       "    </tr>\n",
       "    <tr>\n",
       "      <th>50%</th>\n",
       "      <td>3.066597e+13</td>\n",
       "      <td>30.000000</td>\n",
       "      <td>3.066597e+06</td>\n",
       "      <td>1.377860e+05</td>\n",
       "      <td>171.000000</td>\n",
       "      <td>55.000000</td>\n",
       "      <td>79.000000</td>\n",
       "      <td>71.810000</td>\n",
       "      <td>48.500000</td>\n",
       "      <td>45.040000</td>\n",
       "      <td>44.500000</td>\n",
       "      <td>42.330000</td>\n",
       "      <td>0.311661</td>\n",
       "    </tr>\n",
       "    <tr>\n",
       "      <th>75%</th>\n",
       "      <td>3.777103e+13</td>\n",
       "      <td>37.000000</td>\n",
       "      <td>3.777103e+06</td>\n",
       "      <td>3.037422e+06</td>\n",
       "      <td>462.000000</td>\n",
       "      <td>161.000000</td>\n",
       "      <td>161.000000</td>\n",
       "      <td>85.110000</td>\n",
       "      <td>117.750000</td>\n",
       "      <td>64.022500</td>\n",
       "      <td>113.000000</td>\n",
       "      <td>61.482500</td>\n",
       "      <td>0.419140</td>\n",
       "    </tr>\n",
       "    <tr>\n",
       "      <th>max</th>\n",
       "      <td>5.872770e+13</td>\n",
       "      <td>58.000000</td>\n",
       "      <td>5.872769e+06</td>\n",
       "      <td>6.120893e+06</td>\n",
       "      <td>489650.000000</td>\n",
       "      <td>170411.000000</td>\n",
       "      <td>116500.000000</td>\n",
       "      <td>100.000000</td>\n",
       "      <td>81551.000000</td>\n",
       "      <td>100.000000</td>\n",
       "      <td>77178.000000</td>\n",
       "      <td>100.000000</td>\n",
       "      <td>1.045455</td>\n",
       "    </tr>\n",
       "  </tbody>\n",
       "</table>\n",
       "</div>"
      ],
      "text/plain": [
       "                cds  county_code  district_code   school_code  \\\n",
       "count  2.579000e+03  2579.000000   2.579000e+03  2.579000e+03   \n",
       "mean   2.915139e+13    28.519581   2.915138e+06  1.544913e+06   \n",
       "std    1.428328e+13    14.258173   1.428327e+06  1.812049e+06   \n",
       "min    0.000000e+00     0.000000   0.000000e+00  0.000000e+00   \n",
       "25%    1.964725e+13    19.000000   1.964725e+06  1.025080e+05   \n",
       "50%    3.066597e+13    30.000000   3.066597e+06  1.377860e+05   \n",
       "75%    3.777103e+13    37.000000   3.777103e+06  3.037422e+06   \n",
       "max    5.872770e+13    58.000000   5.872769e+06  6.120893e+06   \n",
       "\n",
       "       enrolled_students_sat  num_test_takers_sat  num_erw_above_bench  \\\n",
       "count            2579.000000          2579.000000          1722.000000   \n",
       "mean              748.155487           264.274137           269.540070   \n",
       "std             10095.758681          3568.205236          2956.948278   \n",
       "min                 0.000000             0.000000             0.000000   \n",
       "25%                63.000000             5.000000            33.000000   \n",
       "50%               171.000000            55.000000            79.000000   \n",
       "75%               462.000000           161.000000           161.000000   \n",
       "max            489650.000000        170411.000000        116500.000000   \n",
       "\n",
       "       pct_erw_above_bench  num_math_above_bench  pct_math_above_bench  \\\n",
       "count          1722.000000           1722.000000           1722.000000   \n",
       "mean             68.318438            188.859466             45.783542   \n",
       "std              20.329336           2063.412843             22.877347   \n",
       "min               0.000000              0.000000              0.000000   \n",
       "25%              54.622500             17.000000             27.512500   \n",
       "50%              71.810000             48.500000             45.040000   \n",
       "75%              85.110000            117.750000             64.022500   \n",
       "max             100.000000          81551.000000            100.000000   \n",
       "\n",
       "       num_both_above_bench  pct_both_above_bench  participation_sat  \n",
       "count           1722.000000           1722.000000        2226.000000  \n",
       "mean             178.732288             43.371707           0.322313  \n",
       "std             1951.895654             22.892739           0.222017  \n",
       "min                0.000000              0.000000           0.000000  \n",
       "25%               16.000000             25.000000           0.182986  \n",
       "50%               44.500000             42.330000           0.311661  \n",
       "75%              113.000000             61.482500           0.419140  \n",
       "max            77178.000000            100.000000           1.045455  "
      ]
     },
     "execution_count": 716,
     "metadata": {},
     "output_type": "execute_result"
    }
   ],
   "source": [
    "#Check min and max values comply with min and max possible values\n",
    "sat.describe()"
   ]
  },
  {
   "cell_type": "code",
   "execution_count": 717,
   "metadata": {},
   "outputs": [],
   "source": [
    "#Dropping rows with enrollment rate exceeding 1\n",
    "sat.drop(sat.index[sat[\"participation_sat\"]>1], inplace = True)"
   ]
  },
  {
   "cell_type": "markdown",
   "metadata": {},
   "source": [
    "#### Cleaning additional dataset on average household income by district"
   ]
  },
  {
   "cell_type": "code",
   "execution_count": 718,
   "metadata": {},
   "outputs": [
    {
     "data": {
      "text/html": [
       "<div>\n",
       "<style scoped>\n",
       "    .dataframe tbody tr th:only-of-type {\n",
       "        vertical-align: middle;\n",
       "    }\n",
       "\n",
       "    .dataframe tbody tr th {\n",
       "        vertical-align: top;\n",
       "    }\n",
       "\n",
       "    .dataframe thead th {\n",
       "        text-align: right;\n",
       "    }\n",
       "</style>\n",
       "<table border=\"1\" class=\"dataframe\">\n",
       "  <thead>\n",
       "    <tr style=\"text-align: right;\">\n",
       "      <th></th>\n",
       "      <th>rank</th>\n",
       "      <th>district_name</th>\n",
       "      <th>equity_score</th>\n",
       "      <th>expenditure_per_pupil</th>\n",
       "      <th>income</th>\n",
       "    </tr>\n",
       "  </thead>\n",
       "  <tbody>\n",
       "    <tr>\n",
       "      <th>0</th>\n",
       "      <td>1</td>\n",
       "      <td>Los Nietos School District</td>\n",
       "      <td>0.03</td>\n",
       "      <td>14525</td>\n",
       "      <td>63516</td>\n",
       "    </tr>\n",
       "    <tr>\n",
       "      <th>1</th>\n",
       "      <td>2</td>\n",
       "      <td>Gen Shafter Elementary School District</td>\n",
       "      <td>0.13</td>\n",
       "      <td>17245</td>\n",
       "      <td>49167</td>\n",
       "    </tr>\n",
       "    <tr>\n",
       "      <th>2</th>\n",
       "      <td>3</td>\n",
       "      <td>Browns Elementary School District</td>\n",
       "      <td>0.17</td>\n",
       "      <td>10664</td>\n",
       "      <td>83942</td>\n",
       "    </tr>\n",
       "    <tr>\n",
       "      <th>3</th>\n",
       "      <td>4</td>\n",
       "      <td>Pajaro Valley Unified School District</td>\n",
       "      <td>0.19</td>\n",
       "      <td>13924</td>\n",
       "      <td>66867</td>\n",
       "    </tr>\n",
       "    <tr>\n",
       "      <th>4</th>\n",
       "      <td>5</td>\n",
       "      <td>Bonita Unified School District</td>\n",
       "      <td>0.27</td>\n",
       "      <td>10602</td>\n",
       "      <td>84202</td>\n",
       "    </tr>\n",
       "  </tbody>\n",
       "</table>\n",
       "</div>"
      ],
      "text/plain": [
       "   rank                           district_name  equity_score  \\\n",
       "0     1              Los Nietos School District          0.03   \n",
       "1     2  Gen Shafter Elementary School District          0.13   \n",
       "2     3       Browns Elementary School District          0.17   \n",
       "3     4   Pajaro Valley Unified School District          0.19   \n",
       "4     5          Bonita Unified School District          0.27   \n",
       "\n",
       "   expenditure_per_pupil  income  \n",
       "0                  14525   63516  \n",
       "1                  17245   49167  \n",
       "2                  10664   83942  \n",
       "3                  13924   66867  \n",
       "4                  10602   84202  "
      ]
     },
     "execution_count": 718,
     "metadata": {},
     "output_type": "execute_result"
    }
   ],
   "source": [
    "#Import dataset\n",
    "income_cols = [\"rank\", \"district_name\", \"equity_score\", \"expenditure_per_pupil\", \"income\"]\n",
    "district_income = pd.read_csv(\"../data/district_income.csv\", header = 0, names = income_cols)\n",
    "\n",
    "#Print first five rows\n",
    "district_income.head()"
   ]
  },
  {
   "cell_type": "code",
   "execution_count": 719,
   "metadata": {},
   "outputs": [
    {
     "name": "stdout",
     "output_type": "stream",
     "text": [
      "<class 'pandas.core.frame.DataFrame'>\n",
      "RangeIndex: 919 entries, 0 to 918\n",
      "Data columns (total 5 columns):\n",
      " #   Column                 Non-Null Count  Dtype  \n",
      "---  ------                 --------------  -----  \n",
      " 0   rank                   919 non-null    int64  \n",
      " 1   district_name          919 non-null    object \n",
      " 2   equity_score           919 non-null    float64\n",
      " 3   expenditure_per_pupil  919 non-null    int64  \n",
      " 4   income                 919 non-null    int64  \n",
      "dtypes: float64(1), int64(3), object(1)\n",
      "memory usage: 36.0+ KB\n"
     ]
    }
   ],
   "source": [
    "#Checking for null values and types -- all fine!\n",
    "district_income.info()"
   ]
  },
  {
   "cell_type": "markdown",
   "metadata": {},
   "source": [
    "Look at the min and maxes below, expenditure and income have max values that are more than 3SD from the mean."
   ]
  },
  {
   "cell_type": "code",
   "execution_count": 720,
   "metadata": {},
   "outputs": [
    {
     "data": {
      "text/html": [
       "<div>\n",
       "<style scoped>\n",
       "    .dataframe tbody tr th:only-of-type {\n",
       "        vertical-align: middle;\n",
       "    }\n",
       "\n",
       "    .dataframe tbody tr th {\n",
       "        vertical-align: top;\n",
       "    }\n",
       "\n",
       "    .dataframe thead th {\n",
       "        text-align: right;\n",
       "    }\n",
       "</style>\n",
       "<table border=\"1\" class=\"dataframe\">\n",
       "  <thead>\n",
       "    <tr style=\"text-align: right;\">\n",
       "      <th></th>\n",
       "      <th>rank</th>\n",
       "      <th>equity_score</th>\n",
       "      <th>expenditure_per_pupil</th>\n",
       "      <th>income</th>\n",
       "    </tr>\n",
       "  </thead>\n",
       "  <tbody>\n",
       "    <tr>\n",
       "      <th>count</th>\n",
       "      <td>919.000000</td>\n",
       "      <td>919.000000</td>\n",
       "      <td>919.000000</td>\n",
       "      <td>919.000000</td>\n",
       "    </tr>\n",
       "    <tr>\n",
       "      <th>mean</th>\n",
       "      <td>460.000000</td>\n",
       "      <td>42.541665</td>\n",
       "      <td>13238.808487</td>\n",
       "      <td>70375.121872</td>\n",
       "    </tr>\n",
       "    <tr>\n",
       "      <th>std</th>\n",
       "      <td>265.436747</td>\n",
       "      <td>48.826999</td>\n",
       "      <td>6347.429652</td>\n",
       "      <td>31653.293993</td>\n",
       "    </tr>\n",
       "    <tr>\n",
       "      <th>min</th>\n",
       "      <td>1.000000</td>\n",
       "      <td>0.030000</td>\n",
       "      <td>260.000000</td>\n",
       "      <td>18917.000000</td>\n",
       "    </tr>\n",
       "    <tr>\n",
       "      <th>25%</th>\n",
       "      <td>230.500000</td>\n",
       "      <td>15.560000</td>\n",
       "      <td>10790.000000</td>\n",
       "      <td>48136.000000</td>\n",
       "    </tr>\n",
       "    <tr>\n",
       "      <th>50%</th>\n",
       "      <td>460.000000</td>\n",
       "      <td>31.460000</td>\n",
       "      <td>12031.000000</td>\n",
       "      <td>63175.000000</td>\n",
       "    </tr>\n",
       "    <tr>\n",
       "      <th>75%</th>\n",
       "      <td>689.500000</td>\n",
       "      <td>50.140000</td>\n",
       "      <td>13641.000000</td>\n",
       "      <td>84978.500000</td>\n",
       "    </tr>\n",
       "    <tr>\n",
       "      <th>max</th>\n",
       "      <td>919.000000</td>\n",
       "      <td>453.310000</td>\n",
       "      <td>82571.000000</td>\n",
       "      <td>250000.000000</td>\n",
       "    </tr>\n",
       "  </tbody>\n",
       "</table>\n",
       "</div>"
      ],
      "text/plain": [
       "             rank  equity_score  expenditure_per_pupil         income\n",
       "count  919.000000    919.000000             919.000000     919.000000\n",
       "mean   460.000000     42.541665           13238.808487   70375.121872\n",
       "std    265.436747     48.826999            6347.429652   31653.293993\n",
       "min      1.000000      0.030000             260.000000   18917.000000\n",
       "25%    230.500000     15.560000           10790.000000   48136.000000\n",
       "50%    460.000000     31.460000           12031.000000   63175.000000\n",
       "75%    689.500000     50.140000           13641.000000   84978.500000\n",
       "max    919.000000    453.310000           82571.000000  250000.000000"
      ]
     },
     "execution_count": 720,
     "metadata": {},
     "output_type": "execute_result"
    }
   ],
   "source": [
    "#Checking min and max\n",
    "district_income.describe()"
   ]
  },
  {
   "cell_type": "markdown",
   "metadata": {},
   "source": [
    "As there are a fair number of outliers for average household income, and the max value of USD 250,000 (approximately USD 20,000 a month) is within a possible range, I will not remove outliers for average household income."
   ]
  },
  {
   "cell_type": "code",
   "execution_count": 721,
   "metadata": {},
   "outputs": [
    {
     "data": {
      "text/plain": [
       "<AxesSubplot:>"
      ]
     },
     "execution_count": 721,
     "metadata": {},
     "output_type": "execute_result"
    },
    {
     "data": {
      "image/png": "[encoded data removed]",
      "text/plain": [
       "<Figure size 576x432 with 1 Axes>"
      ]
     },
     "metadata": {
      "needs_background": "light"
     },
     "output_type": "display_data"
    }
   ],
   "source": [
    "district_income.income.plot(kind = \"box\")"
   ]
  },
  {
   "cell_type": "markdown",
   "metadata": {},
   "source": [
    "The expenditures have a number of points skewing very high. I've decided to remove 15 values which are above the mean + 3SD range (USD 32,270)."
   ]
  },
  {
   "cell_type": "code",
   "execution_count": 722,
   "metadata": {},
   "outputs": [
    {
     "data": {
      "text/plain": [
       "<AxesSubplot:>"
      ]
     },
     "execution_count": 722,
     "metadata": {},
     "output_type": "execute_result"
    },
    {
     "data": {
      "image/png": "[encoded data removed]",
      "text/plain": [
       "<Figure size 576x432 with 1 Axes>"
      ]
     },
     "metadata": {
      "needs_background": "light"
     },
     "output_type": "display_data"
    }
   ],
   "source": [
    "district_income.expenditure_per_pupil.plot(kind = \"box\")"
   ]
  },
  {
   "cell_type": "code",
   "execution_count": 723,
   "metadata": {},
   "outputs": [],
   "source": [
    "#Retrieving row index of rows with expenditure above 3sd from mean\n",
    "expend_mean_3sd = calculate_mean(district_income[\"expenditure_per_pupil\"]) + (3*calculate_sd(district_income[\"expenditure_per_pupil\"]))\n",
    "income_rows_to_drop = district_income.index[district_income[\"expenditure_per_pupil\"]> expend_mean_3sd]\n",
    "district_income.drop(income_rows_to_drop, axis = 0, inplace = True)"
   ]
  },
  {
   "cell_type": "code",
   "execution_count": 754,
   "metadata": {},
   "outputs": [
    {
     "name": "stdout",
     "output_type": "stream",
     "text": [
      "<class 'pandas.core.frame.DataFrame'>\n",
      "Int64Index: 904 entries, 0 to 915\n",
      "Data columns (total 5 columns):\n",
      " #   Column                 Non-Null Count  Dtype  \n",
      "---  ------                 --------------  -----  \n",
      " 0   rank                   904 non-null    int64  \n",
      " 1   district_name          904 non-null    object \n",
      " 2   equity_score           904 non-null    float64\n",
      " 3   expenditure_per_pupil  904 non-null    int64  \n",
      " 4   income                 904 non-null    int64  \n",
      "dtypes: float64(1), int64(3), object(1)\n",
      "memory usage: 42.4+ KB\n"
     ]
    }
   ],
   "source": [
    "district_income.info()"
   ]
  },
  {
   "cell_type": "markdown",
   "metadata": {},
   "source": [
    "#### Merging datasets"
   ]
  },
  {
   "cell_type": "markdown",
   "metadata": {},
   "source": [
    "I plan to merge on the district name so I need to make sure the district name is standardized across all the datasets. I checked the district names across the three datasets using ```np.unique(df[\"district_name\"])```\n",
    "- SAT and ACT datasets have same name formatting\n",
    "- Income dataset includes \"School District\" at the end of each district name \n",
    "- Acronyms in income dataset are in title case (e.g. Abc Unified School District) while acronyms in SAT and ACT datasets are fully capitalized (e.g. ABC Unified)\n",
    "- Inconsistent use of hyphenation (e.g. Brea-Olinda or Brea Olinda)"
   ]
  },
  {
   "cell_type": "code",
   "execution_count": 724,
   "metadata": {},
   "outputs": [],
   "source": [
    "#I can't use unique or replace unless I turn the entire column into strings\n",
    "district_income[\"district_name\"] = district_income[\"district_name\"].astype(str)\n",
    "sat[\"district_name\"] = sat[\"district_name\"].astype(str)\n",
    "act[\"district_name\"] = act[\"district_name\"].astype(str)\n",
    "\n",
    "#Taking out the \"School District\" from the end of the district names in income dataset\n",
    "district_income[\"district_name\"] = district_income[\"district_name\"].map(lambda cell: cell.replace(\" School District\",\"\"))\n",
    "\n",
    "#Standardizing title case and removing hyphens\n",
    "district_income[\"district_name\"] = district_income[\"district_name\"].map(lambda cell: cell.replace(\"-\",\" \").title())\n",
    "sat[\"district_name\"] = sat[\"district_name\"].map(lambda cell: cell.replace(\"-\",\" \").title())\n",
    "act[\"district_name\"] = act[\"district_name\"].map(lambda cell: cell.replace(\"-\",\" \").title())\n",
    "\n",
    "#When I converted the column to strings it turned null values into \"Nan\" so I'm changing them back\n",
    "district_income[\"district_name\"] = district_income[\"district_name\"].replace(\"Nan\", np.nan)\n",
    "sat[\"district_name\"] = sat[\"district_name\"].replace(\"Nan\", np.nan)\n",
    "act[\"district_name\"] = act[\"district_name\"].replace(\"Nan\", np.nan)"
   ]
  },
  {
   "cell_type": "code",
   "execution_count": 725,
   "metadata": {},
   "outputs": [
    {
     "data": {
      "text/plain": [
       "array(['Abc Unified', 'Acalanes Union High', 'Acton Agua Dulce Unified',\n",
       "       'Adelanto Elementary', 'Alameda County Office Of Education',\n",
       "       'Alameda Unified', 'Albany City Unified', 'Alhambra Unified',\n",
       "       'Alpaugh Unified', 'Alvord Unified'], dtype=object)"
      ]
     },
     "execution_count": 725,
     "metadata": {},
     "output_type": "execute_result"
    }
   ],
   "source": [
    "#Checking formatting of first 10 district name for SAT dataset\n",
    "np.unique(sat[\"district_name\"].astype(str))[0:10]"
   ]
  },
  {
   "cell_type": "code",
   "execution_count": 726,
   "metadata": {},
   "outputs": [
    {
     "data": {
      "text/plain": [
       "array(['Abc Unified', 'Acalanes Union High', 'Acton Agua Dulce Unified',\n",
       "       'Adelanto Elementary', 'Alameda County Office Of Education',\n",
       "       'Alameda Unified', 'Albany City Unified', 'Alhambra Unified',\n",
       "       'Alpaugh Unified', 'Alvord Unified'], dtype=object)"
      ]
     },
     "execution_count": 726,
     "metadata": {},
     "output_type": "execute_result"
    }
   ],
   "source": [
    "#Checking formatting of first 10 district names formatting for ACT dataset\n",
    "np.unique(act[\"district_name\"].astype(str))[0:10]"
   ]
  },
  {
   "cell_type": "code",
   "execution_count": 727,
   "metadata": {},
   "outputs": [
    {
     "data": {
      "text/plain": [
       "array(['Abc Unified', 'Acalanes Union High', 'Acton Agua Dulce Unified',\n",
       "       'Adelanto Elementary', 'Alameda Unified', 'Albany City Unified',\n",
       "       'Alexander Valley Union Elementary', 'Alhambra Unified',\n",
       "       'Alisal Union', 'Allensworth Elementary'], dtype=object)"
      ]
     },
     "execution_count": 727,
     "metadata": {},
     "output_type": "execute_result"
    }
   ],
   "source": [
    "#Checking formatting of first 10 district names formatting for income dataset\n",
    "np.unique(district_income[\"district_name\"].astype(str))[0:10]"
   ]
  },
  {
   "cell_type": "code",
   "execution_count": 728,
   "metadata": {},
   "outputs": [],
   "source": [
    "#Dropping redundant columns\n",
    "act_sat_cols_to_drop = [\"cds\", \n",
    "                        \"county_code\", \n",
    "                        \"district_code\", \n",
    "                        \"school_code\",\n",
    "                        \"county_name\",\n",
    "                        \"school_name\",\n",
    "                        \"year\"]\n",
    "sat.drop(act_sat_cols_to_drop, axis = 1, inplace = True)\n",
    "act.drop(act_sat_cols_to_drop, axis = 1, inplace = True)"
   ]
  },
  {
   "cell_type": "code",
   "execution_count": 729,
   "metadata": {},
   "outputs": [
    {
     "data": {
      "text/html": [
       "<div>\n",
       "<style scoped>\n",
       "    .dataframe tbody tr th:only-of-type {\n",
       "        vertical-align: middle;\n",
       "    }\n",
       "\n",
       "    .dataframe tbody tr th {\n",
       "        vertical-align: top;\n",
       "    }\n",
       "\n",
       "    .dataframe thead th {\n",
       "        text-align: right;\n",
       "    }\n",
       "</style>\n",
       "<table border=\"1\" class=\"dataframe\">\n",
       "  <thead>\n",
       "    <tr style=\"text-align: right;\">\n",
       "      <th></th>\n",
       "      <th>rank</th>\n",
       "      <th>district_name</th>\n",
       "      <th>equity_score</th>\n",
       "      <th>expenditure_per_pupil</th>\n",
       "      <th>income</th>\n",
       "      <th>row_type_x</th>\n",
       "      <th>enrolled_students_sat</th>\n",
       "      <th>num_test_takers_sat</th>\n",
       "      <th>num_erw_above_bench</th>\n",
       "      <th>pct_erw_above_bench</th>\n",
       "      <th>...</th>\n",
       "      <th>row_type_y</th>\n",
       "      <th>enrolled_students_act</th>\n",
       "      <th>num_test_takers_act</th>\n",
       "      <th>ave_read</th>\n",
       "      <th>ave_eng</th>\n",
       "      <th>ave_math</th>\n",
       "      <th>ave_sci</th>\n",
       "      <th>num_above_21</th>\n",
       "      <th>pct_above_21</th>\n",
       "      <th>participation_act</th>\n",
       "    </tr>\n",
       "  </thead>\n",
       "  <tbody>\n",
       "    <tr>\n",
       "      <th>83</th>\n",
       "      <td>84</td>\n",
       "      <td>Abc Unified</td>\n",
       "      <td>4.86</td>\n",
       "      <td>11434</td>\n",
       "      <td>76547</td>\n",
       "      <td>D</td>\n",
       "      <td>1663.0</td>\n",
       "      <td>631.0</td>\n",
       "      <td>521.0</td>\n",
       "      <td>82.57</td>\n",
       "      <td>...</td>\n",
       "      <td>D</td>\n",
       "      <td>1663.0</td>\n",
       "      <td>216.0</td>\n",
       "      <td>26.0</td>\n",
       "      <td>26.0</td>\n",
       "      <td>26.0</td>\n",
       "      <td>25.0</td>\n",
       "      <td>172.0</td>\n",
       "      <td>79.63</td>\n",
       "      <td>0.129886</td>\n",
       "    </tr>\n",
       "    <tr>\n",
       "      <th>830</th>\n",
       "      <td>825</td>\n",
       "      <td>Acalanes Union High</td>\n",
       "      <td>81.70</td>\n",
       "      <td>14295</td>\n",
       "      <td>122258</td>\n",
       "      <td>D</td>\n",
       "      <td>1408.0</td>\n",
       "      <td>473.0</td>\n",
       "      <td>452.0</td>\n",
       "      <td>95.56</td>\n",
       "      <td>...</td>\n",
       "      <td>D</td>\n",
       "      <td>1408.0</td>\n",
       "      <td>539.0</td>\n",
       "      <td>29.0</td>\n",
       "      <td>28.0</td>\n",
       "      <td>27.0</td>\n",
       "      <td>27.0</td>\n",
       "      <td>487.0</td>\n",
       "      <td>90.35</td>\n",
       "      <td>0.382812</td>\n",
       "    </tr>\n",
       "    <tr>\n",
       "      <th>481</th>\n",
       "      <td>479</td>\n",
       "      <td>Acton Agua Dulce Unified</td>\n",
       "      <td>33.07</td>\n",
       "      <td>3161</td>\n",
       "      <td>100676</td>\n",
       "      <td>D</td>\n",
       "      <td>1268.0</td>\n",
       "      <td>112.0</td>\n",
       "      <td>74.0</td>\n",
       "      <td>66.07</td>\n",
       "      <td>...</td>\n",
       "      <td>D</td>\n",
       "      <td>1268.0</td>\n",
       "      <td>11.0</td>\n",
       "      <td>NaN</td>\n",
       "      <td>NaN</td>\n",
       "      <td>NaN</td>\n",
       "      <td>NaN</td>\n",
       "      <td>NaN</td>\n",
       "      <td>NaN</td>\n",
       "      <td>0.008675</td>\n",
       "    </tr>\n",
       "    <tr>\n",
       "      <th>598</th>\n",
       "      <td>596</td>\n",
       "      <td>Adelanto Elementary</td>\n",
       "      <td>42.00</td>\n",
       "      <td>11686</td>\n",
       "      <td>49070</td>\n",
       "      <td>D</td>\n",
       "      <td>142.0</td>\n",
       "      <td>2.0</td>\n",
       "      <td>NaN</td>\n",
       "      <td>NaN</td>\n",
       "      <td>...</td>\n",
       "      <td>D</td>\n",
       "      <td>142.0</td>\n",
       "      <td>1.0</td>\n",
       "      <td>NaN</td>\n",
       "      <td>NaN</td>\n",
       "      <td>NaN</td>\n",
       "      <td>NaN</td>\n",
       "      <td>NaN</td>\n",
       "      <td>NaN</td>\n",
       "      <td>0.007042</td>\n",
       "    </tr>\n",
       "    <tr>\n",
       "      <th>267</th>\n",
       "      <td>268</td>\n",
       "      <td>Alameda Unified</td>\n",
       "      <td>17.93</td>\n",
       "      <td>10387</td>\n",
       "      <td>98150</td>\n",
       "      <td>D</td>\n",
       "      <td>919.0</td>\n",
       "      <td>373.0</td>\n",
       "      <td>291.0</td>\n",
       "      <td>78.02</td>\n",
       "      <td>...</td>\n",
       "      <td>D</td>\n",
       "      <td>919.0</td>\n",
       "      <td>155.0</td>\n",
       "      <td>27.0</td>\n",
       "      <td>26.0</td>\n",
       "      <td>26.0</td>\n",
       "      <td>25.0</td>\n",
       "      <td>134.0</td>\n",
       "      <td>86.45</td>\n",
       "      <td>0.168662</td>\n",
       "    </tr>\n",
       "  </tbody>\n",
       "</table>\n",
       "<p>5 rows × 25 columns</p>\n",
       "</div>"
      ],
      "text/plain": [
       "     rank             district_name  equity_score  expenditure_per_pupil  \\\n",
       "83     84               Abc Unified          4.86                  11434   \n",
       "830   825       Acalanes Union High         81.70                  14295   \n",
       "481   479  Acton Agua Dulce Unified         33.07                   3161   \n",
       "598   596       Adelanto Elementary         42.00                  11686   \n",
       "267   268           Alameda Unified         17.93                  10387   \n",
       "\n",
       "     income row_type_x  enrolled_students_sat  num_test_takers_sat  \\\n",
       "83    76547          D                 1663.0                631.0   \n",
       "830  122258          D                 1408.0                473.0   \n",
       "481  100676          D                 1268.0                112.0   \n",
       "598   49070          D                  142.0                  2.0   \n",
       "267   98150          D                  919.0                373.0   \n",
       "\n",
       "     num_erw_above_bench  pct_erw_above_bench  ...  row_type_y  \\\n",
       "83                 521.0                82.57  ...           D   \n",
       "830                452.0                95.56  ...           D   \n",
       "481                 74.0                66.07  ...           D   \n",
       "598                  NaN                  NaN  ...           D   \n",
       "267                291.0                78.02  ...           D   \n",
       "\n",
       "     enrolled_students_act  num_test_takers_act  ave_read  ave_eng ave_math  \\\n",
       "83                  1663.0                216.0      26.0     26.0     26.0   \n",
       "830                 1408.0                539.0      29.0     28.0     27.0   \n",
       "481                 1268.0                 11.0       NaN      NaN      NaN   \n",
       "598                  142.0                  1.0       NaN      NaN      NaN   \n",
       "267                  919.0                155.0      27.0     26.0     26.0   \n",
       "\n",
       "     ave_sci  num_above_21  pct_above_21  participation_act  \n",
       "83      25.0         172.0         79.63           0.129886  \n",
       "830     27.0         487.0         90.35           0.382812  \n",
       "481      NaN           NaN           NaN           0.008675  \n",
       "598      NaN           NaN           NaN           0.007042  \n",
       "267     25.0         134.0         86.45           0.168662  \n",
       "\n",
       "[5 rows x 25 columns]"
      ]
     },
     "execution_count": 729,
     "metadata": {},
     "output_type": "execute_result"
    }
   ],
   "source": [
    "#Extracting aggregated district data from SAT and ACT datasets\n",
    "district_sat = sat.loc[sat[\"row_type\"]==\"D\",:]\n",
    "district_act = act.loc[act[\"row_type\"]==\"D\",:]\n",
    "\n",
    "#Merging datasets\n",
    "all_scores_2_sets = pd.merge(district_income, district_sat, on = \"district_name\", how = \"left\")\n",
    "all_scores = pd.merge(all_scores_2_sets, district_act, on = \"district_name\", how = \"left\")\n",
    "\n",
    "all_scores.sort_values(\"district_name\").head()"
   ]
  },
  {
   "cell_type": "code",
   "execution_count": 730,
   "metadata": {},
   "outputs": [],
   "source": [
    "#I have too many columns so I'm going to drop more\n",
    "more_cols_to_drop = [\"rank\",\n",
    "                     \"equity_score\",\n",
    "                     \"row_type_x\",\n",
    "                     \"row_type_y\",\n",
    "                     \"enrolled_students_sat\",\n",
    "                     \"num_test_takers_sat\",\n",
    "                     \"enrolled_students_act\",\n",
    "                     \"num_test_takers_act\",\n",
    "                     \"num_above_21\",\n",
    "                     \"num_erw_above_bench\",\n",
    "                     \"num_math_above_bench\",\n",
    "                     \"num_both_above_bench\"]\n",
    "all_scores.drop(more_cols_to_drop, axis = 1, inplace = True)"
   ]
  },
  {
   "cell_type": "markdown",
   "metadata": {},
   "source": [
    "### Data Dictionary"
   ]
  },
  {
   "cell_type": "markdown",
   "metadata": {},
   "source": [
    "|Feature|Type|Dataset|Description|\n",
    "|---|---|---|---|\n",
    "|**district_name**|*object*|2019 Census|The name of the school district| \n",
    "|**expenditure_per_student**|*integer*|2019 Census|Public expenditure per student in the district| \n",
    "|**income**|*integer*|2019 Census|Average household income of students in the district| \n",
    "|**pct_erw_above_bench**|*float*|2019 Dept. of Edu.|Percent of students who scored above the mean for Reading & Writing| \n",
    "|**pct_math_above_bench**|*float*|2019 Dept. of Edu.|Percent of students who scored above the mean for Math| \n",
    "|**pct_both_above_bench**|*float*|2019 Dept. of Edu.|Percent of students who scored above the mean for combined score| \n",
    "|**participation_sat**|*float*|2019 Dept. of Edu.|Percent of enrolled seniors who took the SAT| \n",
    "|**ave_read**|*float*|2019 Dept. of Edu.|Average reading score for students in the district| \n",
    "|**ave_math**|*float*|2019 Dept. of Edu.|Average reading score for students in the district| \n",
    "|**ave_sci**|*float*|2019 Dept. of Edu.|Average reading score for students in the district| \n",
    "|**pct_above_21**|*float*|2019 Dept. of Edu.|Percent of students who scored above the benchmark composite score of 21| \n",
    "|**participation_act**|*float*|2019 Dept. of Edu.|Percentage of enrolled seniors who took the ACT|\n"
   ]
  },
  {
   "cell_type": "markdown",
   "metadata": {},
   "source": [
    "## Exploratory Data Analysis\n",
    "\n",
    "Complete the following steps to explore your data. You are welcome to do more EDA than the steps outlined here as you feel necessary:\n",
    "1. Summary Statistics.\n",
    "2. Use a **dictionary comprehension** to apply the standard deviation function you create in part 1 to each numeric column in the dataframe.  **No loops**.\n",
    "    - Assign the output to variable `sd` as a dictionary where: \n",
    "        - Each column name is now a key \n",
    "        - That standard deviation of the column is the value \n",
    "        - *Example Output :* `{'ACT_Math': 120, 'ACT_Reading': 120, ...}`\n",
    "3. Investigate trends in the data.\n",
    "    - Using sorting and/or masking (along with the `.head()` method to avoid printing our entire dataframe), consider questions relevant to your problem statement. Some examples are provided below (but feel free to change these questions for your specific problem):\n",
    "        - Which states have the highest and lowest participation rates for the 2017, 2019, or 2019 SAT and ACT?\n",
    "        - Which states have the highest and lowest mean total/composite scores for the 2017, 2019, or 2019 SAT and ACT?\n",
    "        - Do any states with 100% participation on a given test have a rate change year-to-year?\n",
    "        - Do any states show have >50% participation on *both* tests each year?\n",
    "        - Which colleges have the highest median SAT and ACT scores for admittance?\n",
    "        - Which California school districts have the highest and lowest mean test scores?\n",
    "    - **You should comment on your findings at each step in a markdown cell below your code block**. Make sure you include at least one example of sorting your dataframe by a column, and one example of using boolean filtering (i.e., masking) to select a subset of the dataframe."
   ]
  },
  {
   "cell_type": "markdown",
   "metadata": {},
   "source": [
    "#### Requirement 1: Summary statistics"
   ]
  },
  {
   "cell_type": "code",
   "execution_count": 731,
   "metadata": {},
   "outputs": [
    {
     "data": {
      "text/html": [
       "<div>\n",
       "<style scoped>\n",
       "    .dataframe tbody tr th:only-of-type {\n",
       "        vertical-align: middle;\n",
       "    }\n",
       "\n",
       "    .dataframe tbody tr th {\n",
       "        vertical-align: top;\n",
       "    }\n",
       "\n",
       "    .dataframe thead th {\n",
       "        text-align: right;\n",
       "    }\n",
       "</style>\n",
       "<table border=\"1\" class=\"dataframe\">\n",
       "  <thead>\n",
       "    <tr style=\"text-align: right;\">\n",
       "      <th></th>\n",
       "      <th>expenditure_per_pupil</th>\n",
       "      <th>income</th>\n",
       "      <th>pct_erw_above_bench</th>\n",
       "      <th>pct_math_above_bench</th>\n",
       "      <th>pct_both_above_bench</th>\n",
       "      <th>participation_sat</th>\n",
       "      <th>ave_read</th>\n",
       "      <th>ave_eng</th>\n",
       "      <th>ave_math</th>\n",
       "      <th>ave_sci</th>\n",
       "      <th>pct_above_21</th>\n",
       "      <th>participation_act</th>\n",
       "    </tr>\n",
       "  </thead>\n",
       "  <tbody>\n",
       "    <tr>\n",
       "      <th>count</th>\n",
       "      <td>910.000000</td>\n",
       "      <td>910.000000</td>\n",
       "      <td>351.000000</td>\n",
       "      <td>351.000000</td>\n",
       "      <td>351.000000</td>\n",
       "      <td>392.000000</td>\n",
       "      <td>309.000000</td>\n",
       "      <td>309.000000</td>\n",
       "      <td>309.000000</td>\n",
       "      <td>309.000000</td>\n",
       "      <td>309.000000</td>\n",
       "      <td>391.000000</td>\n",
       "    </tr>\n",
       "    <tr>\n",
       "      <th>mean</th>\n",
       "      <td>12641.679121</td>\n",
       "      <td>70497.773626</td>\n",
       "      <td>72.597464</td>\n",
       "      <td>49.210313</td>\n",
       "      <td>46.821795</td>\n",
       "      <td>0.301480</td>\n",
       "      <td>22.527508</td>\n",
       "      <td>21.611650</td>\n",
       "      <td>21.731392</td>\n",
       "      <td>21.750809</td>\n",
       "      <td>55.392686</td>\n",
       "      <td>0.159484</td>\n",
       "    </tr>\n",
       "    <tr>\n",
       "      <th>std</th>\n",
       "      <td>3869.070795</td>\n",
       "      <td>31681.677676</td>\n",
       "      <td>16.107299</td>\n",
       "      <td>20.641646</td>\n",
       "      <td>20.804482</td>\n",
       "      <td>0.147006</td>\n",
       "      <td>3.357980</td>\n",
       "      <td>3.711774</td>\n",
       "      <td>3.202427</td>\n",
       "      <td>2.983620</td>\n",
       "      <td>24.034672</td>\n",
       "      <td>0.135566</td>\n",
       "    </tr>\n",
       "    <tr>\n",
       "      <th>min</th>\n",
       "      <td>260.000000</td>\n",
       "      <td>18917.000000</td>\n",
       "      <td>31.580000</td>\n",
       "      <td>0.000000</td>\n",
       "      <td>0.000000</td>\n",
       "      <td>0.000000</td>\n",
       "      <td>15.000000</td>\n",
       "      <td>14.000000</td>\n",
       "      <td>15.000000</td>\n",
       "      <td>15.000000</td>\n",
       "      <td>0.000000</td>\n",
       "      <td>0.000000</td>\n",
       "    </tr>\n",
       "    <tr>\n",
       "      <th>25%</th>\n",
       "      <td>10786.500000</td>\n",
       "      <td>48184.250000</td>\n",
       "      <td>61.260000</td>\n",
       "      <td>33.330000</td>\n",
       "      <td>30.975000</td>\n",
       "      <td>0.221598</td>\n",
       "      <td>20.000000</td>\n",
       "      <td>19.000000</td>\n",
       "      <td>19.000000</td>\n",
       "      <td>19.000000</td>\n",
       "      <td>35.280000</td>\n",
       "      <td>0.071297</td>\n",
       "    </tr>\n",
       "    <tr>\n",
       "      <th>50%</th>\n",
       "      <td>12012.000000</td>\n",
       "      <td>63364.000000</td>\n",
       "      <td>75.270000</td>\n",
       "      <td>48.940000</td>\n",
       "      <td>46.040000</td>\n",
       "      <td>0.294142</td>\n",
       "      <td>23.000000</td>\n",
       "      <td>21.000000</td>\n",
       "      <td>22.000000</td>\n",
       "      <td>22.000000</td>\n",
       "      <td>56.700000</td>\n",
       "      <td>0.126558</td>\n",
       "    </tr>\n",
       "    <tr>\n",
       "      <th>75%</th>\n",
       "      <td>13510.000000</td>\n",
       "      <td>85068.000000</td>\n",
       "      <td>85.880000</td>\n",
       "      <td>66.285000</td>\n",
       "      <td>63.815000</td>\n",
       "      <td>0.355693</td>\n",
       "      <td>25.000000</td>\n",
       "      <td>24.000000</td>\n",
       "      <td>24.000000</td>\n",
       "      <td>24.000000</td>\n",
       "      <td>76.000000</td>\n",
       "      <td>0.212769</td>\n",
       "    </tr>\n",
       "    <tr>\n",
       "      <th>max</th>\n",
       "      <td>30880.000000</td>\n",
       "      <td>250000.000000</td>\n",
       "      <td>100.000000</td>\n",
       "      <td>93.330000</td>\n",
       "      <td>91.760000</td>\n",
       "      <td>0.936210</td>\n",
       "      <td>30.000000</td>\n",
       "      <td>31.000000</td>\n",
       "      <td>31.000000</td>\n",
       "      <td>29.000000</td>\n",
       "      <td>100.000000</td>\n",
       "      <td>0.871132</td>\n",
       "    </tr>\n",
       "  </tbody>\n",
       "</table>\n",
       "</div>"
      ],
      "text/plain": [
       "       expenditure_per_pupil         income  pct_erw_above_bench  \\\n",
       "count             910.000000     910.000000           351.000000   \n",
       "mean            12641.679121   70497.773626            72.597464   \n",
       "std              3869.070795   31681.677676            16.107299   \n",
       "min               260.000000   18917.000000            31.580000   \n",
       "25%             10786.500000   48184.250000            61.260000   \n",
       "50%             12012.000000   63364.000000            75.270000   \n",
       "75%             13510.000000   85068.000000            85.880000   \n",
       "max             30880.000000  250000.000000           100.000000   \n",
       "\n",
       "       pct_math_above_bench  pct_both_above_bench  participation_sat  \\\n",
       "count            351.000000            351.000000         392.000000   \n",
       "mean              49.210313             46.821795           0.301480   \n",
       "std               20.641646             20.804482           0.147006   \n",
       "min                0.000000              0.000000           0.000000   \n",
       "25%               33.330000             30.975000           0.221598   \n",
       "50%               48.940000             46.040000           0.294142   \n",
       "75%               66.285000             63.815000           0.355693   \n",
       "max               93.330000             91.760000           0.936210   \n",
       "\n",
       "         ave_read     ave_eng    ave_math     ave_sci  pct_above_21  \\\n",
       "count  309.000000  309.000000  309.000000  309.000000    309.000000   \n",
       "mean    22.527508   21.611650   21.731392   21.750809     55.392686   \n",
       "std      3.357980    3.711774    3.202427    2.983620     24.034672   \n",
       "min     15.000000   14.000000   15.000000   15.000000      0.000000   \n",
       "25%     20.000000   19.000000   19.000000   19.000000     35.280000   \n",
       "50%     23.000000   21.000000   22.000000   22.000000     56.700000   \n",
       "75%     25.000000   24.000000   24.000000   24.000000     76.000000   \n",
       "max     30.000000   31.000000   31.000000   29.000000    100.000000   \n",
       "\n",
       "       participation_act  \n",
       "count         391.000000  \n",
       "mean            0.159484  \n",
       "std             0.135566  \n",
       "min             0.000000  \n",
       "25%             0.071297  \n",
       "50%             0.126558  \n",
       "75%             0.212769  \n",
       "max             0.871132  "
      ]
     },
     "execution_count": 731,
     "metadata": {},
     "output_type": "execute_result"
    }
   ],
   "source": [
    "#Print summary statistics\n",
    "all_scores.describe()"
   ]
  },
  {
   "cell_type": "markdown",
   "metadata": {},
   "source": [
    "#### Requirement 2: Create dictionary of standard deviations"
   ]
  },
  {
   "cell_type": "code",
   "execution_count": 732,
   "metadata": {},
   "outputs": [
    {
     "data": {
      "text/plain": [
       "{'district_name': 'NA',\n",
       " 'expenditure_per_pupil': 3866.944347562617,\n",
       " 'income': 31664.265375475472,\n",
       " 'pct_erw_above_bench': 16.08433741547613,\n",
       " 'pct_math_above_bench': 20.612220593461647,\n",
       " 'pct_both_above_bench': 20.774824409777043,\n",
       " 'participation_sat': 0.14681853826069674,\n",
       " 'ave_read': 3.352541508629932,\n",
       " 'ave_eng': 3.705763052350983,\n",
       " 'ave_math': 3.197240669964768,\n",
       " 'ave_sci': 2.9787881692174762,\n",
       " 'pct_above_21': 23.995749574441742,\n",
       " 'participation_act': 0.13539286858035984}"
      ]
     },
     "execution_count": 732,
     "metadata": {},
     "output_type": "execute_result"
    }
   ],
   "source": [
    "#Use dictionary comprehension to apply SD function\n",
    "convert_dict = all_scores.to_dict(\"list\")\n",
    "sd = {column: calculate_sd(values) for (column, values) in convert_dict.items()}\n",
    "sd"
   ]
  },
  {
   "cell_type": "markdown",
   "metadata": {},
   "source": [
    "#### Requirement 3: Investigate trends"
   ]
  },
  {
   "cell_type": "code",
   "execution_count": 733,
   "metadata": {
    "scrolled": true
   },
   "outputs": [
    {
     "data": {
      "text/html": [
       "<div>\n",
       "<style scoped>\n",
       "    .dataframe tbody tr th:only-of-type {\n",
       "        vertical-align: middle;\n",
       "    }\n",
       "\n",
       "    .dataframe tbody tr th {\n",
       "        vertical-align: top;\n",
       "    }\n",
       "\n",
       "    .dataframe thead th {\n",
       "        text-align: right;\n",
       "    }\n",
       "</style>\n",
       "<table border=\"1\" class=\"dataframe\">\n",
       "  <thead>\n",
       "    <tr style=\"text-align: right;\">\n",
       "      <th></th>\n",
       "      <th>district_name</th>\n",
       "      <th>expenditure_per_pupil</th>\n",
       "      <th>income</th>\n",
       "      <th>pct_erw_above_bench</th>\n",
       "      <th>pct_math_above_bench</th>\n",
       "      <th>pct_both_above_bench</th>\n",
       "      <th>participation_sat</th>\n",
       "      <th>ave_read</th>\n",
       "      <th>ave_eng</th>\n",
       "      <th>ave_math</th>\n",
       "      <th>ave_sci</th>\n",
       "      <th>pct_above_21</th>\n",
       "      <th>participation_act</th>\n",
       "    </tr>\n",
       "  </thead>\n",
       "  <tbody>\n",
       "    <tr>\n",
       "      <th>294</th>\n",
       "      <td>Williams Unified</td>\n",
       "      <td>12251</td>\n",
       "      <td>62024</td>\n",
       "      <td>37.93</td>\n",
       "      <td>3.45</td>\n",
       "      <td>0.00</td>\n",
       "      <td>0.333333</td>\n",
       "      <td>NaN</td>\n",
       "      <td>NaN</td>\n",
       "      <td>NaN</td>\n",
       "      <td>NaN</td>\n",
       "      <td>NaN</td>\n",
       "      <td>0.057471</td>\n",
       "    </tr>\n",
       "    <tr>\n",
       "      <th>443</th>\n",
       "      <td>Golden Plains Unified</td>\n",
       "      <td>15323</td>\n",
       "      <td>38211</td>\n",
       "      <td>37.04</td>\n",
       "      <td>0.00</td>\n",
       "      <td>0.00</td>\n",
       "      <td>0.216000</td>\n",
       "      <td>15.0</td>\n",
       "      <td>14.0</td>\n",
       "      <td>15.0</td>\n",
       "      <td>15.0</td>\n",
       "      <td>0.00</td>\n",
       "      <td>0.152000</td>\n",
       "    </tr>\n",
       "    <tr>\n",
       "      <th>535</th>\n",
       "      <td>Firebaugh Las Deltas Unified</td>\n",
       "      <td>13865</td>\n",
       "      <td>41225</td>\n",
       "      <td>47.62</td>\n",
       "      <td>7.14</td>\n",
       "      <td>5.95</td>\n",
       "      <td>0.494118</td>\n",
       "      <td>16.0</td>\n",
       "      <td>15.0</td>\n",
       "      <td>16.0</td>\n",
       "      <td>17.0</td>\n",
       "      <td>9.68</td>\n",
       "      <td>0.182353</td>\n",
       "    </tr>\n",
       "    <tr>\n",
       "      <th>796</th>\n",
       "      <td>Mcfarland Unified</td>\n",
       "      <td>11191</td>\n",
       "      <td>35307</td>\n",
       "      <td>37.88</td>\n",
       "      <td>10.61</td>\n",
       "      <td>9.09</td>\n",
       "      <td>0.315789</td>\n",
       "      <td>18.0</td>\n",
       "      <td>16.0</td>\n",
       "      <td>19.0</td>\n",
       "      <td>17.0</td>\n",
       "      <td>25.00</td>\n",
       "      <td>0.076555</td>\n",
       "    </tr>\n",
       "    <tr>\n",
       "      <th>115</th>\n",
       "      <td>Cloverdale Unified</td>\n",
       "      <td>12660</td>\n",
       "      <td>68226</td>\n",
       "      <td>47.62</td>\n",
       "      <td>19.05</td>\n",
       "      <td>9.52</td>\n",
       "      <td>0.247059</td>\n",
       "      <td>NaN</td>\n",
       "      <td>NaN</td>\n",
       "      <td>NaN</td>\n",
       "      <td>NaN</td>\n",
       "      <td>NaN</td>\n",
       "      <td>0.058824</td>\n",
       "    </tr>\n",
       "  </tbody>\n",
       "</table>\n",
       "</div>"
      ],
      "text/plain": [
       "                    district_name  expenditure_per_pupil  income  \\\n",
       "294              Williams Unified                  12251   62024   \n",
       "443         Golden Plains Unified                  15323   38211   \n",
       "535  Firebaugh Las Deltas Unified                  13865   41225   \n",
       "796             Mcfarland Unified                  11191   35307   \n",
       "115            Cloverdale Unified                  12660   68226   \n",
       "\n",
       "     pct_erw_above_bench  pct_math_above_bench  pct_both_above_bench  \\\n",
       "294                37.93                  3.45                  0.00   \n",
       "443                37.04                  0.00                  0.00   \n",
       "535                47.62                  7.14                  5.95   \n",
       "796                37.88                 10.61                  9.09   \n",
       "115                47.62                 19.05                  9.52   \n",
       "\n",
       "     participation_sat  ave_read  ave_eng  ave_math  ave_sci  pct_above_21  \\\n",
       "294           0.333333       NaN      NaN       NaN      NaN           NaN   \n",
       "443           0.216000      15.0     14.0      15.0     15.0          0.00   \n",
       "535           0.494118      16.0     15.0      16.0     17.0          9.68   \n",
       "796           0.315789      18.0     16.0      19.0     17.0         25.00   \n",
       "115           0.247059       NaN      NaN       NaN      NaN           NaN   \n",
       "\n",
       "     participation_act  \n",
       "294           0.057471  \n",
       "443           0.152000  \n",
       "535           0.182353  \n",
       "796           0.076555  \n",
       "115           0.058824  "
      ]
     },
     "execution_count": 733,
     "metadata": {},
     "output_type": "execute_result"
    }
   ],
   "source": [
    "#Showing the five poorest performing districts\n",
    "all_scores.sort_values(\"pct_both_above_bench\").head()"
   ]
  },
  {
   "cell_type": "code",
   "execution_count": 734,
   "metadata": {},
   "outputs": [
    {
     "data": {
      "text/html": [
       "<div>\n",
       "<style scoped>\n",
       "    .dataframe tbody tr th:only-of-type {\n",
       "        vertical-align: middle;\n",
       "    }\n",
       "\n",
       "    .dataframe tbody tr th {\n",
       "        vertical-align: top;\n",
       "    }\n",
       "\n",
       "    .dataframe thead th {\n",
       "        text-align: right;\n",
       "    }\n",
       "</style>\n",
       "<table border=\"1\" class=\"dataframe\">\n",
       "  <thead>\n",
       "    <tr style=\"text-align: right;\">\n",
       "      <th></th>\n",
       "      <th>district_name</th>\n",
       "      <th>expenditure_per_pupil</th>\n",
       "      <th>income</th>\n",
       "      <th>pct_erw_above_bench</th>\n",
       "      <th>pct_math_above_bench</th>\n",
       "      <th>pct_both_above_bench</th>\n",
       "      <th>participation_sat</th>\n",
       "      <th>ave_read</th>\n",
       "      <th>ave_eng</th>\n",
       "      <th>ave_math</th>\n",
       "      <th>ave_sci</th>\n",
       "      <th>pct_above_21</th>\n",
       "      <th>participation_act</th>\n",
       "    </tr>\n",
       "  </thead>\n",
       "  <tbody>\n",
       "    <tr>\n",
       "      <th>887</th>\n",
       "      <td>La Canada Unified</td>\n",
       "      <td>11594</td>\n",
       "      <td>178897</td>\n",
       "      <td>95.88</td>\n",
       "      <td>92.94</td>\n",
       "      <td>91.76</td>\n",
       "      <td>0.489914</td>\n",
       "      <td>29.0</td>\n",
       "      <td>29.0</td>\n",
       "      <td>29.0</td>\n",
       "      <td>28.0</td>\n",
       "      <td>94.20</td>\n",
       "      <td>0.397695</td>\n",
       "    </tr>\n",
       "    <tr>\n",
       "      <th>874</th>\n",
       "      <td>San Marino Unified</td>\n",
       "      <td>13803</td>\n",
       "      <td>154224</td>\n",
       "      <td>95.00</td>\n",
       "      <td>93.33</td>\n",
       "      <td>91.67</td>\n",
       "      <td>0.436364</td>\n",
       "      <td>28.0</td>\n",
       "      <td>29.0</td>\n",
       "      <td>29.0</td>\n",
       "      <td>27.0</td>\n",
       "      <td>90.53</td>\n",
       "      <td>0.345455</td>\n",
       "    </tr>\n",
       "    <tr>\n",
       "      <th>895</th>\n",
       "      <td>Palo Alto Unified</td>\n",
       "      <td>20962</td>\n",
       "      <td>151579</td>\n",
       "      <td>96.19</td>\n",
       "      <td>91.28</td>\n",
       "      <td>90.46</td>\n",
       "      <td>0.359804</td>\n",
       "      <td>29.0</td>\n",
       "      <td>29.0</td>\n",
       "      <td>28.0</td>\n",
       "      <td>28.0</td>\n",
       "      <td>86.56</td>\n",
       "      <td>0.445098</td>\n",
       "    </tr>\n",
       "    <tr>\n",
       "      <th>401</th>\n",
       "      <td>Irvine Unified</td>\n",
       "      <td>10962</td>\n",
       "      <td>101576</td>\n",
       "      <td>94.71</td>\n",
       "      <td>90.25</td>\n",
       "      <td>88.09</td>\n",
       "      <td>0.325627</td>\n",
       "      <td>28.0</td>\n",
       "      <td>29.0</td>\n",
       "      <td>29.0</td>\n",
       "      <td>28.0</td>\n",
       "      <td>91.92</td>\n",
       "      <td>0.305643</td>\n",
       "    </tr>\n",
       "    <tr>\n",
       "      <th>304</th>\n",
       "      <td>South Pasadena Unified</td>\n",
       "      <td>11002</td>\n",
       "      <td>96579</td>\n",
       "      <td>96.69</td>\n",
       "      <td>88.40</td>\n",
       "      <td>87.85</td>\n",
       "      <td>0.489189</td>\n",
       "      <td>28.0</td>\n",
       "      <td>27.0</td>\n",
       "      <td>27.0</td>\n",
       "      <td>27.0</td>\n",
       "      <td>83.87</td>\n",
       "      <td>0.251351</td>\n",
       "    </tr>\n",
       "  </tbody>\n",
       "</table>\n",
       "</div>"
      ],
      "text/plain": [
       "              district_name  expenditure_per_pupil  income  \\\n",
       "887       La Canada Unified                  11594  178897   \n",
       "874      San Marino Unified                  13803  154224   \n",
       "895       Palo Alto Unified                  20962  151579   \n",
       "401          Irvine Unified                  10962  101576   \n",
       "304  South Pasadena Unified                  11002   96579   \n",
       "\n",
       "     pct_erw_above_bench  pct_math_above_bench  pct_both_above_bench  \\\n",
       "887                95.88                 92.94                 91.76   \n",
       "874                95.00                 93.33                 91.67   \n",
       "895                96.19                 91.28                 90.46   \n",
       "401                94.71                 90.25                 88.09   \n",
       "304                96.69                 88.40                 87.85   \n",
       "\n",
       "     participation_sat  ave_read  ave_eng  ave_math  ave_sci  pct_above_21  \\\n",
       "887           0.489914      29.0     29.0      29.0     28.0         94.20   \n",
       "874           0.436364      28.0     29.0      29.0     27.0         90.53   \n",
       "895           0.359804      29.0     29.0      28.0     28.0         86.56   \n",
       "401           0.325627      28.0     29.0      29.0     28.0         91.92   \n",
       "304           0.489189      28.0     27.0      27.0     27.0         83.87   \n",
       "\n",
       "     participation_act  \n",
       "887           0.397695  \n",
       "874           0.345455  \n",
       "895           0.445098  \n",
       "401           0.305643  \n",
       "304           0.251351  "
      ]
     },
     "execution_count": 734,
     "metadata": {},
     "output_type": "execute_result"
    }
   ],
   "source": [
    "#Showing the five best performing districts\n",
    "all_scores.sort_values(\"pct_both_above_bench\", ascending = False).head()"
   ]
  },
  {
   "cell_type": "markdown",
   "metadata": {},
   "source": [
    "The poorest performing districts were William Unified, Golden Plains Unified, Firebaugh Las Deltas Unified and Cloverdale Unified, while the best performing ones were La Canada Unified, San Marino Unified, Palo Alto Unified, Irvine Unified, and South Pasadena Unified.\n",
    "\n",
    "We can see that there is a wide income gap between the best performing and poorest performing districts. The best performing districts all had average household incomes above the 75th percentile of USD 84,755. The poorest performing districts all had average household incomes below the mean of USD 70,250.\n",
    "\n",
    "However, expenditure per student didn't seem to vary between the best performing and worst performing districts. There was no observable pattern."
   ]
  },
  {
   "cell_type": "code",
   "execution_count": 735,
   "metadata": {},
   "outputs": [
    {
     "data": {
      "text/html": [
       "<div>\n",
       "<style scoped>\n",
       "    .dataframe tbody tr th:only-of-type {\n",
       "        vertical-align: middle;\n",
       "    }\n",
       "\n",
       "    .dataframe tbody tr th {\n",
       "        vertical-align: top;\n",
       "    }\n",
       "\n",
       "    .dataframe thead th {\n",
       "        text-align: right;\n",
       "    }\n",
       "</style>\n",
       "<table border=\"1\" class=\"dataframe\">\n",
       "  <thead>\n",
       "    <tr style=\"text-align: right;\">\n",
       "      <th></th>\n",
       "      <th>district_name</th>\n",
       "      <th>expenditure_per_pupil</th>\n",
       "      <th>income</th>\n",
       "      <th>pct_erw_above_bench</th>\n",
       "      <th>pct_math_above_bench</th>\n",
       "      <th>pct_both_above_bench</th>\n",
       "      <th>participation_sat</th>\n",
       "      <th>ave_read</th>\n",
       "      <th>ave_eng</th>\n",
       "      <th>ave_math</th>\n",
       "      <th>ave_sci</th>\n",
       "      <th>pct_above_21</th>\n",
       "      <th>participation_act</th>\n",
       "    </tr>\n",
       "  </thead>\n",
       "  <tbody>\n",
       "    <tr>\n",
       "      <th>729</th>\n",
       "      <td>Santa Cruz City High</td>\n",
       "      <td>260</td>\n",
       "      <td>101094</td>\n",
       "      <td>82.23</td>\n",
       "      <td>67.25</td>\n",
       "      <td>63.76</td>\n",
       "      <td>0.332947</td>\n",
       "      <td>24.0</td>\n",
       "      <td>23.0</td>\n",
       "      <td>23.0</td>\n",
       "      <td>22.0</td>\n",
       "      <td>63.28</td>\n",
       "      <td>0.205336</td>\n",
       "    </tr>\n",
       "    <tr>\n",
       "      <th>824</th>\n",
       "      <td>Gorman Elementary</td>\n",
       "      <td>453</td>\n",
       "      <td>82917</td>\n",
       "      <td>NaN</td>\n",
       "      <td>NaN</td>\n",
       "      <td>NaN</td>\n",
       "      <td>NaN</td>\n",
       "      <td>NaN</td>\n",
       "      <td>NaN</td>\n",
       "      <td>NaN</td>\n",
       "      <td>NaN</td>\n",
       "      <td>NaN</td>\n",
       "      <td>NaN</td>\n",
       "    </tr>\n",
       "    <tr>\n",
       "      <th>891</th>\n",
       "      <td>Ravendale Termo Elementary</td>\n",
       "      <td>809</td>\n",
       "      <td>28571</td>\n",
       "      <td>NaN</td>\n",
       "      <td>NaN</td>\n",
       "      <td>NaN</td>\n",
       "      <td>NaN</td>\n",
       "      <td>NaN</td>\n",
       "      <td>NaN</td>\n",
       "      <td>NaN</td>\n",
       "      <td>NaN</td>\n",
       "      <td>NaN</td>\n",
       "      <td>NaN</td>\n",
       "    </tr>\n",
       "    <tr>\n",
       "      <th>856</th>\n",
       "      <td>Meridian Elementary</td>\n",
       "      <td>914</td>\n",
       "      <td>62083</td>\n",
       "      <td>NaN</td>\n",
       "      <td>NaN</td>\n",
       "      <td>NaN</td>\n",
       "      <td>0.099237</td>\n",
       "      <td>NaN</td>\n",
       "      <td>NaN</td>\n",
       "      <td>NaN</td>\n",
       "      <td>NaN</td>\n",
       "      <td>NaN</td>\n",
       "      <td>0.007634</td>\n",
       "    </tr>\n",
       "    <tr>\n",
       "      <th>888</th>\n",
       "      <td>Maricopa Unified</td>\n",
       "      <td>990</td>\n",
       "      <td>34375</td>\n",
       "      <td>NaN</td>\n",
       "      <td>NaN</td>\n",
       "      <td>NaN</td>\n",
       "      <td>0.039106</td>\n",
       "      <td>NaN</td>\n",
       "      <td>NaN</td>\n",
       "      <td>NaN</td>\n",
       "      <td>NaN</td>\n",
       "      <td>NaN</td>\n",
       "      <td>0.000000</td>\n",
       "    </tr>\n",
       "    <tr>\n",
       "      <th>846</th>\n",
       "      <td>Marcum Illinois Union Elementary</td>\n",
       "      <td>1014</td>\n",
       "      <td>63875</td>\n",
       "      <td>NaN</td>\n",
       "      <td>NaN</td>\n",
       "      <td>NaN</td>\n",
       "      <td>0.085714</td>\n",
       "      <td>NaN</td>\n",
       "      <td>NaN</td>\n",
       "      <td>NaN</td>\n",
       "      <td>NaN</td>\n",
       "      <td>NaN</td>\n",
       "      <td>0.042857</td>\n",
       "    </tr>\n",
       "    <tr>\n",
       "      <th>876</th>\n",
       "      <td>Winship Robbins</td>\n",
       "      <td>1048</td>\n",
       "      <td>48125</td>\n",
       "      <td>NaN</td>\n",
       "      <td>NaN</td>\n",
       "      <td>NaN</td>\n",
       "      <td>0.115385</td>\n",
       "      <td>NaN</td>\n",
       "      <td>NaN</td>\n",
       "      <td>NaN</td>\n",
       "      <td>NaN</td>\n",
       "      <td>NaN</td>\n",
       "      <td>0.115385</td>\n",
       "    </tr>\n",
       "    <tr>\n",
       "      <th>857</th>\n",
       "      <td>Spencer Valley Elementary</td>\n",
       "      <td>1139</td>\n",
       "      <td>60000</td>\n",
       "      <td>88.89</td>\n",
       "      <td>55.56</td>\n",
       "      <td>55.56</td>\n",
       "      <td>0.090301</td>\n",
       "      <td>NaN</td>\n",
       "      <td>NaN</td>\n",
       "      <td>NaN</td>\n",
       "      <td>NaN</td>\n",
       "      <td>NaN</td>\n",
       "      <td>0.010033</td>\n",
       "    </tr>\n",
       "    <tr>\n",
       "      <th>777</th>\n",
       "      <td>Blochman Union Elementary</td>\n",
       "      <td>1695</td>\n",
       "      <td>88750</td>\n",
       "      <td>NaN</td>\n",
       "      <td>NaN</td>\n",
       "      <td>NaN</td>\n",
       "      <td>0.084507</td>\n",
       "      <td>NaN</td>\n",
       "      <td>NaN</td>\n",
       "      <td>NaN</td>\n",
       "      <td>NaN</td>\n",
       "      <td>NaN</td>\n",
       "      <td>0.070423</td>\n",
       "    </tr>\n",
       "    <tr>\n",
       "      <th>758</th>\n",
       "      <td>Liberty Elementary</td>\n",
       "      <td>2034</td>\n",
       "      <td>89028</td>\n",
       "      <td>NaN</td>\n",
       "      <td>NaN</td>\n",
       "      <td>NaN</td>\n",
       "      <td>0.014286</td>\n",
       "      <td>NaN</td>\n",
       "      <td>NaN</td>\n",
       "      <td>NaN</td>\n",
       "      <td>NaN</td>\n",
       "      <td>NaN</td>\n",
       "      <td>0.057143</td>\n",
       "    </tr>\n",
       "  </tbody>\n",
       "</table>\n",
       "</div>"
      ],
      "text/plain": [
       "                        district_name  expenditure_per_pupil  income  \\\n",
       "729              Santa Cruz City High                    260  101094   \n",
       "824                 Gorman Elementary                    453   82917   \n",
       "891        Ravendale Termo Elementary                    809   28571   \n",
       "856               Meridian Elementary                    914   62083   \n",
       "888                  Maricopa Unified                    990   34375   \n",
       "846  Marcum Illinois Union Elementary                   1014   63875   \n",
       "876                   Winship Robbins                   1048   48125   \n",
       "857         Spencer Valley Elementary                   1139   60000   \n",
       "777         Blochman Union Elementary                   1695   88750   \n",
       "758                Liberty Elementary                   2034   89028   \n",
       "\n",
       "     pct_erw_above_bench  pct_math_above_bench  pct_both_above_bench  \\\n",
       "729                82.23                 67.25                 63.76   \n",
       "824                  NaN                   NaN                   NaN   \n",
       "891                  NaN                   NaN                   NaN   \n",
       "856                  NaN                   NaN                   NaN   \n",
       "888                  NaN                   NaN                   NaN   \n",
       "846                  NaN                   NaN                   NaN   \n",
       "876                  NaN                   NaN                   NaN   \n",
       "857                88.89                 55.56                 55.56   \n",
       "777                  NaN                   NaN                   NaN   \n",
       "758                  NaN                   NaN                   NaN   \n",
       "\n",
       "     participation_sat  ave_read  ave_eng  ave_math  ave_sci  pct_above_21  \\\n",
       "729           0.332947      24.0     23.0      23.0     22.0         63.28   \n",
       "824                NaN       NaN      NaN       NaN      NaN           NaN   \n",
       "891                NaN       NaN      NaN       NaN      NaN           NaN   \n",
       "856           0.099237       NaN      NaN       NaN      NaN           NaN   \n",
       "888           0.039106       NaN      NaN       NaN      NaN           NaN   \n",
       "846           0.085714       NaN      NaN       NaN      NaN           NaN   \n",
       "876           0.115385       NaN      NaN       NaN      NaN           NaN   \n",
       "857           0.090301       NaN      NaN       NaN      NaN           NaN   \n",
       "777           0.084507       NaN      NaN       NaN      NaN           NaN   \n",
       "758           0.014286       NaN      NaN       NaN      NaN           NaN   \n",
       "\n",
       "     participation_act  \n",
       "729           0.205336  \n",
       "824                NaN  \n",
       "891                NaN  \n",
       "856           0.007634  \n",
       "888           0.000000  \n",
       "846           0.042857  \n",
       "876           0.115385  \n",
       "857           0.010033  \n",
       "777           0.070423  \n",
       "758           0.057143  "
      ]
     },
     "execution_count": 735,
     "metadata": {},
     "output_type": "execute_result"
    }
   ],
   "source": [
    "#Showing the districts with the lowest expenditures\n",
    "all_scores.sort_values(\"expenditure_per_pupil\").head(10)"
   ]
  },
  {
   "cell_type": "markdown",
   "metadata": {},
   "source": [
    "The schools with the least amount of funding also seem to have the lowest participation rates. Many of these districts do not have score data available because the number of test takers were less than 15."
   ]
  },
  {
   "cell_type": "code",
   "execution_count": 736,
   "metadata": {},
   "outputs": [
    {
     "data": {
      "text/html": [
       "<div>\n",
       "<style scoped>\n",
       "    .dataframe tbody tr th:only-of-type {\n",
       "        vertical-align: middle;\n",
       "    }\n",
       "\n",
       "    .dataframe tbody tr th {\n",
       "        vertical-align: top;\n",
       "    }\n",
       "\n",
       "    .dataframe thead th {\n",
       "        text-align: right;\n",
       "    }\n",
       "</style>\n",
       "<table border=\"1\" class=\"dataframe\">\n",
       "  <thead>\n",
       "    <tr style=\"text-align: right;\">\n",
       "      <th></th>\n",
       "      <th>district_name</th>\n",
       "      <th>expenditure_per_pupil</th>\n",
       "      <th>income</th>\n",
       "    </tr>\n",
       "  </thead>\n",
       "  <tbody>\n",
       "    <tr>\n",
       "      <th>888</th>\n",
       "      <td>Maricopa Unified</td>\n",
       "      <td>990</td>\n",
       "      <td>34375</td>\n",
       "    </tr>\n",
       "    <tr>\n",
       "      <th>26</th>\n",
       "      <td>Klamath Trinity Joint Unified</td>\n",
       "      <td>19369</td>\n",
       "      <td>38828</td>\n",
       "    </tr>\n",
       "    <tr>\n",
       "      <th>692</th>\n",
       "      <td>West Park Elementary</td>\n",
       "      <td>11844</td>\n",
       "      <td>42500</td>\n",
       "    </tr>\n",
       "    <tr>\n",
       "      <th>641</th>\n",
       "      <td>El Tejon Unified</td>\n",
       "      <td>11846</td>\n",
       "      <td>45595</td>\n",
       "    </tr>\n",
       "    <tr>\n",
       "      <th>463</th>\n",
       "      <td>Fort Sage Unified</td>\n",
       "      <td>13201</td>\n",
       "      <td>48382</td>\n",
       "    </tr>\n",
       "    <tr>\n",
       "      <th>96</th>\n",
       "      <td>Guerneville Elementary</td>\n",
       "      <td>14622</td>\n",
       "      <td>58822</td>\n",
       "    </tr>\n",
       "    <tr>\n",
       "      <th>534</th>\n",
       "      <td>Big Oak Flat Groveland Unified</td>\n",
       "      <td>19742</td>\n",
       "      <td>61581</td>\n",
       "    </tr>\n",
       "    <tr>\n",
       "      <th>493</th>\n",
       "      <td>South Bay Union Elementary</td>\n",
       "      <td>10239</td>\n",
       "      <td>62508</td>\n",
       "    </tr>\n",
       "    <tr>\n",
       "      <th>182</th>\n",
       "      <td>Esparto Unified</td>\n",
       "      <td>12223</td>\n",
       "      <td>67477</td>\n",
       "    </tr>\n",
       "    <tr>\n",
       "      <th>144</th>\n",
       "      <td>Live Oak Elementary</td>\n",
       "      <td>11961</td>\n",
       "      <td>70498</td>\n",
       "    </tr>\n",
       "    <tr>\n",
       "      <th>795</th>\n",
       "      <td>Bradley Union Elementary</td>\n",
       "      <td>4080</td>\n",
       "      <td>73750</td>\n",
       "    </tr>\n",
       "    <tr>\n",
       "      <th>823</th>\n",
       "      <td>Emery Unified</td>\n",
       "      <td>17972</td>\n",
       "      <td>100568</td>\n",
       "    </tr>\n",
       "  </tbody>\n",
       "</table>\n",
       "</div>"
      ],
      "text/plain": [
       "                      district_name  expenditure_per_pupil  income\n",
       "888                Maricopa Unified                    990   34375\n",
       "26    Klamath Trinity Joint Unified                  19369   38828\n",
       "692            West Park Elementary                  11844   42500\n",
       "641                El Tejon Unified                  11846   45595\n",
       "463               Fort Sage Unified                  13201   48382\n",
       "96           Guerneville Elementary                  14622   58822\n",
       "534  Big Oak Flat Groveland Unified                  19742   61581\n",
       "493      South Bay Union Elementary                  10239   62508\n",
       "182                 Esparto Unified                  12223   67477\n",
       "144             Live Oak Elementary                  11961   70498\n",
       "795        Bradley Union Elementary                   4080   73750\n",
       "823                   Emery Unified                  17972  100568"
      ]
     },
     "execution_count": 736,
     "metadata": {},
     "output_type": "execute_result"
    }
   ],
   "source": [
    "#Showing the districts with zero participation rate\n",
    "all_scores[[\"district_name\", \"expenditure_per_pupil\", \"income\"]].loc[(all_scores[\"participation_act\"]==0) | (all_scores[\"participation_sat\"]==0),:].sort_values(\"income\")"
   ]
  },
  {
   "cell_type": "markdown",
   "metadata": {},
   "source": [
    "Income also seems to have some effect on participation rates. The majority of districts with 0 participation rates for either the SAT or ACT have average household incomes of less than the mean (USD 70,250)."
   ]
  },
  {
   "cell_type": "markdown",
   "metadata": {},
   "source": [
    "## Visualize the Data\n",
    "\n",
    "There's not a magic bullet recommendation for the right number of plots to understand a given dataset, but visualizing your data is *always* a good idea. Not only does it allow you to quickly convey your findings (even if you have a non-technical audience), it will often reveal trends in your data that escaped you when you were looking only at numbers. It is important to not only create visualizations, but to **interpret your visualizations** as well.\n",
    "\n",
    "**Every plot should**:\n",
    "- Have a title\n",
    "- Have axis labels\n",
    "- Have appropriate tick labels\n",
    "- Text is legible in a plot\n",
    "- Plots demonstrate meaningful and valid relationships\n",
    "- Have an interpretation to aid understanding\n",
    "\n",
    "Here is an example of what your plots should look like following the above guidelines. Note that while the content of this example is unrelated, the principles of visualization hold:\n",
    "\n",
    "![](https://snag.gy/hCBR1U.jpg)\n",
    "*Interpretation: The above image shows that as we increase our spending on advertising, our sales numbers also tend to increase. There is a positive correlation between advertising spending and sales.*\n",
    "\n",
    "---\n",
    "\n",
    "Here are some prompts to get you started with visualizations. Feel free to add additional visualizations as you see fit:\n",
    "1. Use Seaborn's heatmap with pandas `.corr()` to visualize correlations between all numeric features.\n",
    "    - Heatmaps are generally not appropriate for presentations, and should often be excluded from reports as they can be visually overwhelming. **However**, they can be extremely useful in identify relationships of potential interest (as well as identifying potential collinearity before modeling).\n",
    "    - Please take time to format your output, adding a title. Look through some of the additional arguments and options. (Axis labels aren't really necessary, as long as the title is informative).\n",
    "2. Visualize distributions using histograms. If you have a lot, consider writing a custom function and use subplots.\n",
    "    - *OPTIONAL*: Summarize the underlying distributions of your features (in words & statistics)\n",
    "         - Be thorough in your verbal description of these distributions.\n",
    "         - Be sure to back up these summaries with statistics.\n",
    "         - We generally assume that data we sample from a population will be normally distributed. Do we observe this trend? Explain your answers for each distribution and how you think this will affect estimates made from these data.\n",
    "3. Plot and interpret boxplots. \n",
    "    - Boxplots demonstrate central tendency and spread in variables. In a certain sense, these are somewhat redundant with histograms, but you may be better able to identify clear outliers or differences in IQR, etc.\n",
    "    - Multiple values can be plotted to a single boxplot as long as they are of the same relative scale (meaning they have similar min/max values).\n",
    "    - Each boxplot should:\n",
    "        - Only include variables of a similar scale\n",
    "        - Have clear labels for each variable\n",
    "        - Have appropriate titles and labels\n",
    "4. Plot and interpret scatter plots to view relationships between features. Feel free to write a custom function, and subplot if you'd like. Functions save both time and space.\n",
    "    - Your plots should have:\n",
    "        - Two clearly labeled axes\n",
    "        - A proper title\n",
    "        - Colors and symbols that are clear and unmistakable\n",
    "5. Additional plots of your choosing.\n",
    "    - Are there any additional trends or relationships you haven't explored? Was there something interesting you saw that you'd like to dive further into? It's likely that there are a few more plots you might want to generate to support your narrative and recommendations that you are building toward. **As always, make sure you're interpreting your plots as you go**."
   ]
  },
  {
   "cell_type": "code",
   "execution_count": 737,
   "metadata": {},
   "outputs": [],
   "source": [
    "# For the full list of available styles check out matplotlib.org/stable/gallery/style_sheets/style_sheets_reference.html\n",
    "# Read more on matplotlib’s fivethirtyeight style at this link - https://www.dataquest.io/blog/making-538-plots/\n",
    "plt.style.use('fivethirtyeight')\n",
    "\n",
    "# enable our graphs to be displayed inside the notebook.\n",
    "%matplotlib inline\n",
    "\n",
    "# Increase default figure and font sizes for easier viewing.\n",
    "plt.rcParams['figure.figsize'] = (8, 6)\n",
    "plt.rcParams['font.size'] = 14"
   ]
  },
  {
   "cell_type": "markdown",
   "metadata": {},
   "source": [
    "#### 1) Correlation Matrix"
   ]
  },
  {
   "cell_type": "code",
   "execution_count": 738,
   "metadata": {},
   "outputs": [
    {
     "data": {
      "image/png": "[encoded data removed]",
      "text/plain": [
       "<Figure size 1152x360 with 2 Axes>"
      ]
     },
     "metadata": {
      "needs_background": "light"
     },
     "output_type": "display_data"
    }
   ],
   "source": [
    "plt.figure(figsize=(16,5))\n",
    "sns.heatmap(all_scores.corr(), annot = True, cmap = \"vlag\", center = 0);"
   ]
  },
  {
   "cell_type": "markdown",
   "metadata": {},
   "source": [
    "In the heatmap above, positive correlations are marked in red while negative correlations are marked in blue. The intensity of the color conveys the strength of the correlation.\n",
    "\n",
    "- The strongest correlations are between the score values, which indicates that districts with high SAT scores are likely to have high ACT scores as well.\n",
    "- As expected, income has a large effect on both SAT and ACT scores. Since it has equal effect on composite scores for SAT and ACT, it doesn't appear that one test is more \"equitable\" than the other.\n",
    "- Unexpectedly, expenditure seems to have small negative correlation with scores, such that scores DECREASE when expenditure increases. However, funding does appear to have moderate impact on test participation rates.\n",
    "- Income also has a small to moderate effect on participation rates.\n",
    "- Participation rates show little correlation with test performance.\n",
    "- There is low correlation between expenditure per student and income, which seems to suggest that it is untrue that schools are better funded in districts with high average incomes."
   ]
  },
  {
   "cell_type": "markdown",
   "metadata": {},
   "source": [
    "#### 2) Box-Plots"
   ]
  },
  {
   "cell_type": "code",
   "execution_count": 739,
   "metadata": {},
   "outputs": [
    {
     "data": {
      "image/png": "[encoded data removed]",
      "text/plain": [
       "<Figure size 1152x360 with 1 Axes>"
      ]
     },
     "metadata": {
      "needs_background": "light"
     },
     "output_type": "display_data"
    }
   ],
   "source": [
    "#Splitting the variables up into those of similar scale\n",
    "box1 = [\"ave_read\",\n",
    "        \"ave_eng\",\n",
    "        \"ave_math\",\n",
    "        \"ave_sci\"]\n",
    "\n",
    "box2 = [\"pct_erw_above_bench\", \n",
    "        \"pct_math_above_bench\", \n",
    "        \"pct_both_above_bench\", \n",
    "        \"pct_above_21\",] \n",
    "\n",
    "box3 = [\"participation_sat\", \n",
    "        \"participation_act\"]\n",
    "\n",
    "#Plotting boxplot for the ACT score components\n",
    "all_scores[box1].plot(kind = \"box\", figsize = [16, 5], title = \"ACT Components\");"
   ]
  },
  {
   "cell_type": "markdown",
   "metadata": {},
   "source": [
    "From the box plot we can see that the component scores are generally pretty consistent, with 50% of values falling around the 20 to 25 score range. Reading scores seems slightly higher on average than the others. English and Math scores tend to skew towards the lower ends."
   ]
  },
  {
   "cell_type": "code",
   "execution_count": 740,
   "metadata": {},
   "outputs": [
    {
     "data": {
      "image/png": "[encoded data removed]",
      "text/plain": [
       "<Figure size 1152x360 with 1 Axes>"
      ]
     },
     "metadata": {
      "needs_background": "light"
     },
     "output_type": "display_data"
    }
   ],
   "source": [
    "#Plotting boxplot for the SAT components and composite scores\n",
    "all_scores[box2].plot(kind = \"box\", figsize = [16, 5], title = \"SAT Components and SAT / ACT Composites\");"
   ]
  },
  {
   "cell_type": "markdown",
   "metadata": {},
   "source": [
    "Students in California generally seem to perform better on Evidence-Based Reading and Writing than Math. When comparing SAT and ACT composite scores, it appears that students perform better on the ACT than the SAT on average."
   ]
  },
  {
   "cell_type": "code",
   "execution_count": 741,
   "metadata": {},
   "outputs": [
    {
     "data": {
      "image/png": "[encoded data removed]",
      "text/plain": [
       "<Figure size 576x432 with 1 Axes>"
      ]
     },
     "metadata": {
      "needs_background": "light"
     },
     "output_type": "display_data"
    }
   ],
   "source": [
    "#Plotting boxplot for participation rate\n",
    "all_scores[box3].plot(kind = \"box\", title = \"Participation Rates\");"
   ]
  },
  {
   "cell_type": "markdown",
   "metadata": {},
   "source": [
    "Participation rates skew low. On overage, the SAT sees higher participation rates than the ACT. Both have points identified as outliers on the boxplot. (I decided not to remove the outliers because there are a fair number of them and they all fall within possible values.)"
   ]
  },
  {
   "cell_type": "code",
   "execution_count": 742,
   "metadata": {},
   "outputs": [
    {
     "data": {
      "image/png": "[encoded data removed]",
      "text/plain": [
       "<Figure size 576x432 with 1 Axes>"
      ]
     },
     "metadata": {
      "needs_background": "light"
     },
     "output_type": "display_data"
    }
   ],
   "source": [
    "#Plotting boxplot for income\n",
    "all_scores.income.plot(kind = \"box\", title = \"Average Household Income\");"
   ]
  },
  {
   "cell_type": "markdown",
   "metadata": {},
   "source": [
    "Average household income skews low with a very long tail towards the higher values. (I decided not to remove the outliers because there are a fair number of them and they all fall within possible values.)"
   ]
  },
  {
   "cell_type": "code",
   "execution_count": 743,
   "metadata": {},
   "outputs": [
    {
     "data": {
      "image/png": "[encoded data removed]",
      "text/plain": [
       "<Figure size 576x432 with 1 Axes>"
      ]
     },
     "metadata": {
      "needs_background": "light"
     },
     "output_type": "display_data"
    }
   ],
   "source": [
    "#Plotting boxplot for school expenditures\n",
    "all_scores.expenditure_per_pupil.plot(kind = \"box\", title = \"School Expenditure\");"
   ]
  },
  {
   "cell_type": "markdown",
   "metadata": {},
   "source": [
    "Average household income skews low with a long tail on either side. Previously, 15 outliers with values exceeding 3SD of the mean were removed."
   ]
  },
  {
   "cell_type": "markdown",
   "metadata": {},
   "source": [
    "#### 4) Scatter Plots"
   ]
  },
  {
   "cell_type": "code",
   "execution_count": 744,
   "metadata": {},
   "outputs": [
    {
     "data": {
      "image/png": "[encoded data removed]",
      "text/plain": [
       "<Figure size 576x432 with 1 Axes>"
      ]
     },
     "metadata": {
      "needs_background": "light"
     },
     "output_type": "display_data"
    }
   ],
   "source": [
    "#Plotting ACT performance against average household income\n",
    "all_scores.plot(x=\"income\", \n",
    "                y=\"pct_above_21\", \n",
    "                kind = \"scatter\", \n",
    "                xlabel = \"Average household income (USD)\", \n",
    "                ylabel = \"Students scoring over ACT mean (%)\", \n",
    "                fontsize = 12);"
   ]
  },
  {
   "cell_type": "markdown",
   "metadata": {},
   "source": [
    "We can see a strong positive correlation between ACT scores and income."
   ]
  },
  {
   "cell_type": "code",
   "execution_count": 745,
   "metadata": {},
   "outputs": [
    {
     "data": {
      "image/png": "[encoded data removed]",
      "text/plain": [
       "<Figure size 576x432 with 1 Axes>"
      ]
     },
     "metadata": {
      "needs_background": "light"
     },
     "output_type": "display_data"
    }
   ],
   "source": [
    "#Plotting SAT performance against average household income\n",
    "all_scores.plot(x=\"income\", \n",
    "                y=\"pct_both_above_bench\", \n",
    "                kind = \"scatter\", \n",
    "                xlabel = \"Average household income (USD)\", \n",
    "                ylabel = \"Students scoring over SAT mean (%)\", \n",
    "                fontsize = 12);"
   ]
  },
  {
   "cell_type": "markdown",
   "metadata": {},
   "source": [
    "We can see a strong positive relationship between SAT scores and income as well."
   ]
  },
  {
   "cell_type": "code",
   "execution_count": 748,
   "metadata": {},
   "outputs": [
    {
     "data": {
      "image/png": "[encoded data removed]",
      "text/plain": [
       "<Figure size 576x432 with 1 Axes>"
      ]
     },
     "metadata": {
      "needs_background": "light"
     },
     "output_type": "display_data"
    }
   ],
   "source": [
    "#Plotting ACT performance against district funding\n",
    "all_scores.plot(x=\"expenditure_per_pupil\", \n",
    "                y=\"pct_above_21\", \n",
    "                kind = \"scatter\", \n",
    "                xlabel = \"Public expenditure per student (USD)\", \n",
    "                ylabel = \"Students scoring over ACT mean (%)\", \n",
    "                fontsize = 12);"
   ]
  },
  {
   "cell_type": "markdown",
   "metadata": {},
   "source": [
    "District funding seemed to be negatively correlated with ACT performance. However, the overall correlation coefficient is low, even though the relationship between district funding and ACT performance appears to be strongest between USD 10,000 to 15,000 on the scatter plot."
   ]
  },
  {
   "cell_type": "code",
   "execution_count": 749,
   "metadata": {},
   "outputs": [
    {
     "data": {
      "image/png": "[encoded data removed]",
      "text/plain": [
       "<Figure size 576x432 with 1 Axes>"
      ]
     },
     "metadata": {
      "needs_background": "light"
     },
     "output_type": "display_data"
    }
   ],
   "source": [
    "#Plotting SAT performance against district funding\n",
    "all_scores.plot(x=\"expenditure_per_pupil\", \n",
    "                y=\"pct_both_above_bench\", \n",
    "                kind = \"scatter\", \n",
    "                xlabel = \"Public expenditure per student (USD)\", \n",
    "                ylabel = \"Students scoring over SAT mean (%)\", \n",
    "                fontsize = 12);"
   ]
  },
  {
   "cell_type": "markdown",
   "metadata": {},
   "source": [
    "Likewise, district funding seemed to be negatively correlated with SAT performance as well. The relationship between district funding and SAT performance also appears to be strongest between USD 10,000 to 15,000 on the scatter plot as well, even though the correlation coefficient remains low."
   ]
  },
  {
   "cell_type": "code",
   "execution_count": 746,
   "metadata": {},
   "outputs": [
    {
     "data": {
      "image/png": "[encoded data removed]",
      "text/plain": [
       "<Figure size 576x432 with 1 Axes>"
      ]
     },
     "metadata": {
      "needs_background": "light"
     },
     "output_type": "display_data"
    }
   ],
   "source": [
    "#Plotting ACT participation against average household income\n",
    "all_scores.plot(x=\"income\", \n",
    "                y=\"participation_act\", \n",
    "                kind = \"scatter\", \n",
    "                xlabel = \"Average household income (USD)\", \n",
    "                ylabel = \"ACT participation rate (%)\", \n",
    "                fontsize = 12);"
   ]
  },
  {
   "cell_type": "markdown",
   "metadata": {},
   "source": [
    "We see a small positive relationship between income and percentage of enrolled students taking the ACT."
   ]
  },
  {
   "cell_type": "code",
   "execution_count": 747,
   "metadata": {},
   "outputs": [
    {
     "data": {
      "image/png": "[encoded data removed]",
      "text/plain": [
       "<Figure size 576x432 with 1 Axes>"
      ]
     },
     "metadata": {
      "needs_background": "light"
     },
     "output_type": "display_data"
    }
   ],
   "source": [
    "#Plotting SAT participation against average household income\n",
    "all_scores.plot(x=\"income\", \n",
    "                y=\"participation_sat\", \n",
    "                kind = \"scatter\", \n",
    "                xlabel = \"Average household income (USD)\", \n",
    "                ylabel = \"SAT participation rate (%)\", \n",
    "                fontsize = 12);"
   ]
  },
  {
   "cell_type": "markdown",
   "metadata": {},
   "source": [
    "We see a slightly stronger positive relationship between income and percentage of enrolled students taking the SAT."
   ]
  },
  {
   "cell_type": "code",
   "execution_count": 750,
   "metadata": {},
   "outputs": [
    {
     "data": {
      "image/png": "[encoded data removed]",
      "text/plain": [
       "<Figure size 576x432 with 1 Axes>"
      ]
     },
     "metadata": {
      "needs_background": "light"
     },
     "output_type": "display_data"
    }
   ],
   "source": [
    "#Plotting ACT participation against district funding\n",
    "all_scores.plot(x=\"expenditure_per_pupil\", \n",
    "                y=\"participation_act\", \n",
    "                kind = \"scatter\", \n",
    "                xlabel = \"Public expenditure per student (USD)\", \n",
    "                ylabel = \"ACT participation rate (%)\", \n",
    "                fontsize = 12);"
   ]
  },
  {
   "cell_type": "markdown",
   "metadata": {},
   "source": [
    "There seems to be a small positive relationship between district funding and ACT participation rates."
   ]
  },
  {
   "cell_type": "code",
   "execution_count": 751,
   "metadata": {},
   "outputs": [
    {
     "data": {
      "image/png": "[encoded data removed]",
      "text/plain": [
       "<Figure size 576x432 with 1 Axes>"
      ]
     },
     "metadata": {
      "needs_background": "light"
     },
     "output_type": "display_data"
    }
   ],
   "source": [
    "#Plotting SAT participation against district funding\n",
    "all_scores.plot(x=\"expenditure_per_pupil\", \n",
    "                y=\"participation_sat\", \n",
    "                kind = \"scatter\", \n",
    "                xlabel = \"Public expenditure per student (USD)\", \n",
    "                ylabel = \"SAT participation rate (%)\", \n",
    "                fontsize = 12);"
   ]
  },
  {
   "cell_type": "markdown",
   "metadata": {},
   "source": [
    "The positive relationship between district funding and participation rates is stronger for the SAT."
   ]
  },
  {
   "cell_type": "code",
   "execution_count": 752,
   "metadata": {},
   "outputs": [
    {
     "data": {
      "image/png": "[encoded data removed]",
      "text/plain": [
       "<Figure size 576x432 with 1 Axes>"
      ]
     },
     "metadata": {
      "needs_background": "light"
     },
     "output_type": "display_data"
    }
   ],
   "source": [
    "all_scores.plot(x=\"expenditure_per_pupil\", \n",
    "                y=\"income\", \n",
    "                kind = \"scatter\", \n",
    "                xlabel = \"Public expenditure per student (USD)\", \n",
    "                ylabel = \"Average household income (USD)\", \n",
    "                fontsize = 12);"
   ]
  },
  {
   "cell_type": "markdown",
   "metadata": {},
   "source": [
    "There appears to be little correlation between average household income and district funding."
   ]
  },
  {
   "cell_type": "code",
   "execution_count": 753,
   "metadata": {},
   "outputs": [
    {
     "data": {
      "image/png": "[encoded data removed]",
      "text/plain": [
       "<Figure size 1152x360 with 2 Axes>"
      ]
     },
     "metadata": {
      "needs_background": "light"
     },
     "output_type": "display_data"
    }
   ],
   "source": [
    "plt.figure(figsize=(16,5))\n",
    "sns.heatmap(all_scores.corr(), annot = True, cmap = \"vlag\", center = 0);"
   ]
  },
  {
   "cell_type": "markdown",
   "metadata": {},
   "source": [
    "## Conclusions and Recommendations"
   ]
  },
  {
   "cell_type": "markdown",
   "metadata": {},
   "source": [
    "Based on your exploration of the data, what are you key takeaways and recommendations? Make sure to answer your question of interest or address your problem statement here."
   ]
  },
  {
   "cell_type": "markdown",
   "metadata": {},
   "source": [
    "The aim was to investigate SAT and ACT score performance, with a specific focus on possible reasons for variation in score performance across various districts. In particular, our study focused on the impact of average household income and school district funding on score performance.\n",
    "\n",
    "### Key Takeaways\n",
    "1. **Districts with high SAT scores are extremely likely to have high ACT scores as well.**\n",
    "2. **The strongest predictor of test performance was household income:** This held for both the SAT and ACT. It doesn't appear that one test is more \"equitable\" than the other.\n",
    "2. **However, it's untrue that schools are better funded in districts with high average incomes:** There is little correlation between expenditure per student and income.\n",
    "4. **In fact, districts that were better-funded performed more poorly:** Unexpectedly, test performance and expenditure per student was very weakly correlated, and the correlation was negative. This means that test scores *decrease* on average with increased funding.\n",
    "    - <ins>This might suggest that funds are being poured into inefficient programs,</ins> and that funding must go into the *right* programs to achieve results.\n",
    "    - <ins>An alternative explanation is that funding might be allocated based on the district's overall test performance,</ins> such that poorly-performing districts get more funding. Time series data would be needed to rule out or confirm this explanation, by investigating if sustained periods of increased funding improve test performances.\n",
    "5. **Better test performance was not associated with better test participation rates:** If low participation rates is a concern, it must be addressed separately from test performance. Improving test performance will not necessarily increase participation rates.\n",
    "6. **However, higher household income and district funding seemed to moderately increase test participation rates!**"
   ]
  },
  {
   "cell_type": "markdown",
   "metadata": {},
   "source": [
    "### Recommendations\n",
    "1. **Time series data should be collected to properly investigate the long-term effect of district funding on test performance:** Time series data would allow the state of California to ascertain if  funding truly translations into improvements in test scores, and to what extent. It would also allow us to estimate how much funding is needed, and how long it must be sustained to achieve improvements in overall test performance.\n",
    "\n",
    "2. **Data should be collected to estimate the efficiency of ongoing or potential programs:** Investing wisely in evidence-based interventions is likely to achieve greater results than blindly spending on programs that show little effect. Data can be collected from schools in California, or by exploring the literature on evidence-based interventions being carried out outside of California.\n",
    "\n",
    "3. **More research should be done to figure out exactly what explains the relationship between income and test performance:** Qualitative research such as observing the school and home environments of students in high-performing and poor-performing schools may enable us to better ascertain why income is such strong predictors of test performance.\n",
    "\n",
    "4. **Increasing funding for a district might improve participation rates:** But low participation rates must be addressed separately from test performance, as the two are poorly correlated. HOWEVER...\n",
    "\n",
    "5. **In the short-run, the heavy use of SAT and ACT scores in the college admission process will only reinforce income inequality:** Until more can be done to lessen the score gap between high and low income students, temporary measures should be established to enable poorer students to also enter universities. This could include:\n",
    "    - <ins>Encouraging universities to adopt affirmative action policies based on family income,</ins> which would mean entry requirements are lower for students from low-income families.\n",
    "    - <ins>Encouraging universities to adopt alternative ways of assessing candidates.</ins> An increasing number of universities are making submission of SAT or ACT scores optional. Candidates may instead be assessed based on testimonials or personal statements. However, it should be noted that such methods of assessing candidates may not necessarily be more equitable than admitting candidates based on SAT or ACT scores."
   ]
  }
 ],
 "metadata": {
  "anaconda-cloud": {},
  "kernelspec": {
   "display_name": "Python 3",
   "language": "python",
   "name": "python3"
  },
  "language_info": {
   "codemirror_mode": {
    "name": "ipython",
    "version": 3
   },
   "file_extension": ".py",
   "mimetype": "text/x-python",
   "name": "python",
   "nbconvert_exporter": "python",
   "pygments_lexer": "ipython3",
   "version": "3.8.8"
  }
 },
 "nbformat": 4,
 "nbformat_minor": 4
}
